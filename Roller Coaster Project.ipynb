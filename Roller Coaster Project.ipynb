{
 "cells": [
  {
   "cell_type": "markdown",
   "id": "9c57db94",
   "metadata": {},
   "source": [
    "# Data scientist: analytics specialist path Codecademy"
   ]
  },
  {
   "cell_type": "markdown",
   "id": "c43bab54",
   "metadata": {},
   "source": []
  },
  {
   "cell_type": "markdown",
   "id": "0cfe0fee",
   "metadata": {},
   "source": [
    "# 17.Visualisation for Data Science Applications : Roller Coaster Project"
   ]
  },
  {
   "cell_type": "markdown",
   "id": "fba3fbae",
   "metadata": {},
   "source": []
  },
  {
   "cell_type": "markdown",
   "id": "976dee13",
   "metadata": {},
   "source": [
    "# Objectives¶"
   ]
  },
  {
   "cell_type": "markdown",
   "id": "57300230",
   "metadata": {},
   "source": [
    "Data analysis and visualization related to data covering international roller coasters from 2013 till 2018 to get an insight of their best ranking."
   ]
  },
  {
   "cell_type": "markdown",
   "id": "7536a92c",
   "metadata": {},
   "source": [
    "# Introduction"
   ]
  },
  {
   "cell_type": "markdown",
   "id": "d436f522",
   "metadata": {},
   "source": [
    "A roller coaster, or rollercoaster, is a type of amusement ride that employs a form of elevated railroad track designed with tight turns, steep slopes, and sometimes inversions (REF1). Roller coasters are often found in amusement parks (rides) around the word. Roller coasters are often split into two main categories based on their construction material: wood or steel. Neverless, wooden roller coasters were the first to be introduced, steel roller coasters, introduced in the mid-20th-century, became more common. Amusement parks often compete to build the tallest, fastest, and longest rides to attract seekers and boost overall park attendance. Ranked by height, speed, length, and number of inversions of the roller coasters often became the focal point for competing parks(REF1). Data visualisation related to data covering (international) roller coasters have been performed in order to get an insight of their best ranking."
   ]
  },
  {
   "cell_type": "markdown",
   "id": "3b7de9fe",
   "metadata": {},
   "source": [
    "# Methods"
   ]
  },
  {
   "cell_type": "markdown",
   "id": "704bafd5",
   "metadata": {},
   "source": [
    "Rankings for the best wood and steel roller coasters from the 2013 to 2018 Golden Ticket Awards(REF2) were provided from the Codecademy platform through two csv files : 'Golden_Ticket_Award_Winners_Wood.csv' and 'Golden_Ticket_Award_Winners_Steel.csv', respectively. Simple statistics and further visualisation of data covering roller coaster rankings were performed to get an insight of the ranking of these roller coasters. The Exploratory Data Analysis (EDA) approach was used to perform a first initial data inspection, and cleaning process, and further to perform data analysis on the trends of rankings of the roller coasters under given conditions. An insight into the actual statistics of roller coasters themselves has been performed through an additional file, roller_coasters.csv, containing roller coaster manufactures data/information (such as speed, height, seating type, and inversions). Data visualisation and data analysis were performed using Python3 software."
   ]
  },
  {
   "cell_type": "markdown",
   "id": "fbeeaba0",
   "metadata": {},
   "source": [
    "# Results"
   ]
  },
  {
   "cell_type": "markdown",
   "id": "b29c8514",
   "metadata": {},
   "source": [
    "Data analysis does show similarity and differences between wood and steel roller coaster dataframes. Neverless,the Rank and Range of Year Rank for both datasets cover the same period (2013-2018), the Year of built up the roller coasters does cover different range of periods (1914-2017 and 1976-2018, for wooden and steel roller coasters, respectively) and this is due to the use of the two different materials (wood and steel) used to built up the roller coasters. Besides, the data does seem confirm that steel material was used later on than wood material.\n",
    "Visualisation plots of  the ranking of two given roller coasters in two given parks over time as lines does show up and down of ranking in the time period under consideration. Also visualisation plots  of the ranking of the top 5 ranked roller coasters over time as lines does show up up and down in ranking. These patterns could be  mainly due to roller coaster manufactures data/information (such as speed, height, seating type, and inversions) that have beeen changed between 2013 till 2018, changing further the ranking of attaction of the seekers in the amusement parks. Data visualisation and data analysis are diplayed in the attached Python script."
   ]
  },
  {
   "cell_type": "markdown",
   "id": "9826d3d4",
   "metadata": {},
   "source": [
    "# Conclusions"
   ]
  },
  {
   "cell_type": "markdown",
   "id": "5a0eea81",
   "metadata": {},
   "source": [
    "Further analysis should be perfored to get an insight whether different seating types result in higher/faster/longer roller coasters, and also whether roller coaster manufactures could have any specialties related for instance to  speed, height, seating type, or inversions."
   ]
  },
  {
   "cell_type": "markdown",
   "id": "6370ee71",
   "metadata": {},
   "source": []
  },
  {
   "cell_type": "markdown",
   "id": "ae43676a",
   "metadata": {},
   "source": [
    "# Python script"
   ]
  },
  {
   "cell_type": "markdown",
   "id": "dd9e0ca7",
   "metadata": {},
   "source": [
    "DATA ACQUISITION"
   ]
  },
  {
   "cell_type": "markdown",
   "id": "aa3d6b0e",
   "metadata": {},
   "source": [
    "Before to upload the two files, the Python libraries used in the further analysis have been imported."
   ]
  },
  {
   "cell_type": "code",
   "execution_count": 1,
   "id": "28671bdd",
   "metadata": {},
   "outputs": [],
   "source": [
    "#Upload the Python libraries\n",
    "import csv\n",
    "import pandas as pd\n",
    "import matplotlib.pyplot as plt\n",
    "import seaborn as sns\n",
    "import numpy as np\n",
    "import statsmodels\n",
    "import math"
   ]
  },
  {
   "cell_type": "markdown",
   "id": "bf72d050",
   "metadata": {},
   "source": [
    "Load the two ranking data (CSV files) from the Codecademy platform"
   ]
  },
  {
   "cell_type": "code",
   "execution_count": 2,
   "id": "4797cc93",
   "metadata": {},
   "outputs": [],
   "source": [
    "# Golden_Ticket_Award_Winners_Wood.csv > The csv file holds recorded hightings different ranking data of wooden roller coasters\n",
    "dataset1 = pd.read_csv(\"Golden_Ticket_Award_Winners_Wood.csv\")\n",
    "dataset_obs = pd.DataFrame(dataset1)\n",
    "\n",
    "#Golden_Ticket_Award_Winners_Steel.csv > The csv file holds recorded hightings different ranking data of steel roller coasters\n",
    "dataset2 = pd.read_csv(\"Golden_Ticket_Award_Winners_Steel.csv\")\n",
    "dataset2_obs = pd.DataFrame(dataset2)"
   ]
  },
  {
   "cell_type": "markdown",
   "id": "1236d211",
   "metadata": {},
   "source": [
    "INSPECT, CLEAN AND VALIDATE THE WOOD AND STEEL RANKING ROLLER COASTERS DATAFRAMES "
   ]
  },
  {
   "cell_type": "markdown",
   "id": "cab8de6b",
   "metadata": {},
   "source": [
    "Before to perform the data visualisation, inspection of the two dataframes have been performed in order to get a view of their descriptive statistics (such as  view of their enclosed variables, their size and shape etc.) and further clean up of mistakes due to wrong spelling in the variables. "
   ]
  },
  {
   "cell_type": "code",
   "execution_count": 3,
   "id": "967c8c95",
   "metadata": {},
   "outputs": [
    {
     "name": "stdout",
     "output_type": "stream",
     "text": [
      "   Rank          Name                       Park             Location  \\\n",
      "0     1  Boulder Dash             Lake Compounce       Bristol, Conn.   \n",
      "1     2       El Toro  Six Flags Great Adventure        Jackson, N.J.   \n",
      "2     3       Phoenix  Knoebels Amusement Resort        Elysburg, Pa.   \n",
      "3     4    The Voyage              Holiday World    Santa Claus, Ind.   \n",
      "4     5   Thunderhead                  Dollywood  Pigeon Forge, Tenn.   \n",
      "\n",
      "           Supplier  Year Built  Points  Year of Rank  \n",
      "0               CCI        2000    1333          2013  \n",
      "1           Intamin        2006    1302          2013  \n",
      "2  Dinn/PTC-Schmeck        1985    1088          2013  \n",
      "3     Gravity Group        2006    1086          2013  \n",
      "4              GCII        2004     923          2013  \n",
      "['Rank' 'Name' 'Park' 'Location' 'Supplier' 'Year Built' 'Points'\n",
      " 'Year of Rank']\n",
      "<class 'pandas.core.frame.DataFrame'>\n",
      "RangeIndex: 180 entries, 0 to 179\n",
      "Data columns (total 8 columns):\n",
      " #   Column        Non-Null Count  Dtype \n",
      "---  ------        --------------  ----- \n",
      " 0   Rank          180 non-null    int64 \n",
      " 1   Name          180 non-null    object\n",
      " 2   Park          180 non-null    object\n",
      " 3   Location      180 non-null    object\n",
      " 4   Supplier      179 non-null    object\n",
      " 5   Year Built    180 non-null    int64 \n",
      " 6   Points        180 non-null    int64 \n",
      " 7   Year of Rank  180 non-null    int64 \n",
      "dtypes: int64(4), object(4)\n",
      "memory usage: 11.4+ KB\n",
      "1440\n",
      "(180, 8)\n"
     ]
    }
   ],
   "source": [
    "#Wooden ranking roller coasters dataframe \n",
    "print(dataset_obs.head())\n",
    "print(dataset_obs.columns.values) #View  of the columns (varialbes) of the dataset1 \n",
    "dataset_obs.info()     #concise summary of the dataframe like the index dtype and columns, non-null values and memory usage \n",
    "dataset_obs.describe() #Simple statistics of the numnerical variables\n",
    "size = dataset_obs.size # dataframe.size\n",
    "print(size)\n",
    "shape =dataset_obs.shape  # dataframe.shape\n",
    "print(shape)"
   ]
  },
  {
   "cell_type": "code",
   "execution_count": 4,
   "id": "2df3c4fb",
   "metadata": {},
   "outputs": [
    {
     "name": "stdout",
     "output_type": "stream",
     "text": [
      "   Rank                Name                        Park           Location  \\\n",
      "0     1    Millennium Force                 Cedar Point     Sandusky, Ohio   \n",
      "1     2             Bizarro       Six Flags New England      Agawam, Mass.   \n",
      "2     3  Expedition GeForce                Holiday Park  Hassloch, Germany   \n",
      "3     4               Nitro   Six Flags Great Adventure      Jackson, N.J.   \n",
      "4     5    Apollo’s Chariot  Busch Gardens Williamsburg  Williamsburg, Va.   \n",
      "\n",
      "  Supplier  Year Built  Points  Year of Rank  \n",
      "0  Intamin        2000    1204          2013  \n",
      "1  Intamin        2000    1011          2013  \n",
      "2  Intamin        2001     598          2013  \n",
      "3      B&M        2001     596          2013  \n",
      "4      B&M        1999     542          2013  \n",
      "['Rank' 'Name' 'Park' 'Location' 'Supplier' 'Year Built' 'Points'\n",
      " 'Year of Rank']\n",
      "<class 'pandas.core.frame.DataFrame'>\n",
      "RangeIndex: 180 entries, 0 to 179\n",
      "Data columns (total 8 columns):\n",
      " #   Column        Non-Null Count  Dtype \n",
      "---  ------        --------------  ----- \n",
      " 0   Rank          180 non-null    int64 \n",
      " 1   Name          180 non-null    object\n",
      " 2   Park          180 non-null    object\n",
      " 3   Location      180 non-null    object\n",
      " 4   Supplier      180 non-null    object\n",
      " 5   Year Built    180 non-null    int64 \n",
      " 6   Points        180 non-null    int64 \n",
      " 7   Year of Rank  180 non-null    int64 \n",
      "dtypes: int64(4), object(4)\n",
      "memory usage: 11.4+ KB\n",
      "1440\n",
      "(180, 8)\n"
     ]
    }
   ],
   "source": [
    "#Steel ranking roller coasters dataframe\n",
    "print(dataset2_obs.head())\n",
    "print(dataset2_obs.columns.values)  #View  of the columns (varialbes) of the dataset2 \n",
    "dataset2_obs.info()     #concise summary of the dataframe like the index dtype and columns, non-null values and memory usage \n",
    "dataset2_obs.describe() #Simple statistics of the numnerical variables\n",
    "size2 = dataset2_obs.size # dataframe.size\n",
    "print(size2)\n",
    "shape2 =dataset2_obs.shape  # dataframe.shape\n",
    "print(shape2)"
   ]
  },
  {
   "cell_type": "markdown",
   "id": "b3f84b20",
   "metadata": {},
   "source": [
    "The two above outputs show similarity and differences between wood and steel roller coaster dataframes. Briefly, both dataframes have been characterised by 8 \"similar\" variables (Rank, Name, Park, Location, Supplier, Year Built, Points and Year of Rank) and have the same size (1440) and the Rank and Range of Year Rank for both datasets cover the same period (2013-2018). \n",
    "On the other side, Year of built up the roller coasters does cover different range of periods (1914-2017 and  1976-2018, for wooden and steel roller coasters, respectively) and this is due to the use of the two different materials (wood and steel) used to built up the roller coasters. Besides, the data does seem confirm that steel material was used later on than wood material."
   ]
  },
  {
   "cell_type": "markdown",
   "id": "1ab32b04",
   "metadata": {},
   "source": [
    "Because the differences between the two dataframes are due mainly to the type of material used to buld up them, a new variable, Material, has been enclosed in each Dataframe (wooden and steel respectively in the wood and steel Dataframes)."
   ]
  },
  {
   "cell_type": "code",
   "execution_count": 5,
   "id": "f144fda9",
   "metadata": {},
   "outputs": [
    {
     "name": "stdout",
     "output_type": "stream",
     "text": [
      "['Rank' 'Name' 'Park' 'Location' 'Supplier' 'Year Built' 'Points'\n",
      " 'Year of Rank' 'Material']\n",
      "   Rank          Name                       Park             Location  \\\n",
      "0     1  Boulder Dash             Lake Compounce       Bristol, Conn.   \n",
      "1     2       El Toro  Six Flags Great Adventure        Jackson, N.J.   \n",
      "2     3       Phoenix  Knoebels Amusement Resort        Elysburg, Pa.   \n",
      "3     4    The Voyage              Holiday World    Santa Claus, Ind.   \n",
      "4     5   Thunderhead                  Dollywood  Pigeon Forge, Tenn.   \n",
      "\n",
      "           Supplier  Year Built  Points  Year of Rank Material  \n",
      "0               CCI        2000    1333          2013   Wooden  \n",
      "1           Intamin        2006    1302          2013   Wooden  \n",
      "2  Dinn/PTC-Schmeck        1985    1088          2013   Wooden  \n",
      "3     Gravity Group        2006    1086          2013   Wooden  \n",
      "4              GCII        2004     923          2013   Wooden  \n",
      "['Rank' 'Name' 'Park' 'Location' 'Supplier' 'Year Built' 'Points'\n",
      " 'Year of Rank' 'Material']\n",
      "   Rank                Name                        Park           Location  \\\n",
      "0     1    Millennium Force                 Cedar Point     Sandusky, Ohio   \n",
      "1     2             Bizarro       Six Flags New England      Agawam, Mass.   \n",
      "2     3  Expedition GeForce                Holiday Park  Hassloch, Germany   \n",
      "3     4               Nitro   Six Flags Great Adventure      Jackson, N.J.   \n",
      "4     5    Apollo’s Chariot  Busch Gardens Williamsburg  Williamsburg, Va.   \n",
      "\n",
      "  Supplier  Year Built  Points  Year of Rank Material  \n",
      "0  Intamin        2000    1204          2013    Steel  \n",
      "1  Intamin        2000    1011          2013    Steel  \n",
      "2  Intamin        2001     598          2013    Steel  \n",
      "3      B&M        2001     596          2013    Steel  \n",
      "4      B&M        1999     542          2013    Steel  \n"
     ]
    }
   ],
   "source": [
    "#Enclose a new variable material to make difference between the two dataset \n",
    "dataset_obs['Material'] = 'Wooden'\n",
    "print(dataset_obs.columns.values)\n",
    "print(dataset_obs.head())\n",
    "\n",
    "dataset2_obs['Material'] = 'Steel'\n",
    "print(dataset2_obs.columns.values)\n",
    "print(dataset2_obs.head())"
   ]
  },
  {
   "cell_type": "markdown",
   "id": "0adbd946",
   "metadata": {},
   "source": [
    "Inspection and eventually clean up of spelling mistakes of the variables enclsoed in the wood roller coaster Dataframes."
   ]
  },
  {
   "cell_type": "code",
   "execution_count": 6,
   "id": "d27d819f",
   "metadata": {},
   "outputs": [
    {
     "name": "stdout",
     "output_type": "stream",
     "text": [
      "61\n",
      "['American Thunder' 'Balder' 'Beast' 'Blue Streak' 'Boardwalk Bullet'\n",
      " 'Boss' 'Boulder Dash' 'Colossos' 'Comet' 'Cyclone' 'Cú Chulainn'\n",
      " 'El Toro' 'Flying Turns' 'GhostRider' 'Giant Dipper' 'Gold Striker'\n",
      " 'Goliath' 'Grand National' 'Grizzly' 'Grizzly (KD)' 'Hades 360'\n",
      " 'Jack Rabbit' 'Kentucky Rumbler' 'Legend' 'Lightning Racer'\n",
      " 'Lightning Rod' 'Megafobia' 'Mine Blower' 'Mystic Timbers' 'Outlaw Run'\n",
      " 'Phoenix' 'Playland Wooden Coaster' 'Prowler' 'Racer' 'Rampage' 'Raven'\n",
      " 'Ravine Flyer II' 'Renegade' 'Rutschebanan' 'Screamin’ Eagle'\n",
      " 'Shivering Timbers' 'Switchback' 'T Express' 'The Beast' 'The Boss'\n",
      " 'The Legend' 'The Raven' 'The Voyage' 'Thunderbolt' 'Thunderhead'\n",
      " 'Tremors' 'Troy' 'Twister' 'Voyage' 'White Lightning' 'Wild Mouse'\n",
      " 'Wild One' 'Wildfire' 'Wodan' 'Wood Coaster' 'Wooden Warrior']\n"
     ]
    }
   ],
   "source": [
    "# Inspection Variable Name\n",
    "print(dataset_obs.sort_values(by=[\"Name\"]).Name.nunique())\n",
    "print(dataset_obs.sort_values(by=[\"Name\"]).Name.unique())"
   ]
  },
  {
   "cell_type": "markdown",
   "id": "6435f5e5",
   "metadata": {},
   "source": [
    "The output shows the presence of 61 names of wood rollers coaster. Beside,a deep inspection of the output show two  mistakes in the spelling of a name ('Grizzly' and 'Grizzly (KD)',  and  The Voyage and Voyage) that have been therefore renamed in the right format, reducing the number of 59 names."
   ]
  },
  {
   "cell_type": "code",
   "execution_count": 7,
   "id": "ed122314",
   "metadata": {},
   "outputs": [
    {
     "name": "stdout",
     "output_type": "stream",
     "text": [
      "['American Thunder' 'Balder' 'Beast' 'Blue Streak' 'Boardwalk Bullet'\n",
      " 'Boss' 'Boulder Dash' 'Colossos' 'Comet' 'Cyclone' 'Cú Chulainn'\n",
      " 'El Toro' 'Flying Turns' 'GhostRider' 'Giant Dipper' 'Gold Striker'\n",
      " 'Goliath' 'Grand National' 'Grizzly' 'Hades 360' 'Jack Rabbit'\n",
      " 'Kentucky Rumbler' 'Legend' 'Lightning Racer' 'Lightning Rod' 'Megafobia'\n",
      " 'Mine Blower' 'Mystic Timbers' 'Outlaw Run' 'Phoenix'\n",
      " 'Playland Wooden Coaster' 'Prowler' 'Racer' 'Rampage' 'Raven'\n",
      " 'Ravine Flyer II' 'Renegade' 'Rutschebanan' 'Screamin’ Eagle'\n",
      " 'Shivering Timbers' 'Switchback' 'T Express' 'The Beast' 'The Boss'\n",
      " 'The Legend' 'The Raven' 'Thunderbolt' 'Thunderhead' 'Tremors' 'Troy'\n",
      " 'Twister' 'Voyage' 'White Lightning' 'Wild Mouse' 'Wild One' 'Wildfire'\n",
      " 'Wodan' 'Wood Coaster' 'Wooden Warrior']\n",
      "59\n"
     ]
    }
   ],
   "source": [
    "#Rename to delete the mistake of wrong name 'Grizzly (KD)' instead of Grizzly\n",
    "dataset_obs['Name'] = dataset_obs['Name'].replace(['Grizzly (KD)'], 'Grizzly')\n",
    "dataset_obs['Name'] = dataset_obs['Name'].replace(['The Voyage'], 'Voyage')\n",
    "print(dataset_obs.sort_values(by=[\"Name\"]).Name.unique())\n",
    "print(dataset_obs.sort_values(by=[\"Name\"]).Name.nunique())"
   ]
  },
  {
   "cell_type": "code",
   "execution_count": 8,
   "id": "6e2f1ebd",
   "metadata": {},
   "outputs": [
    {
     "name": "stdout",
     "output_type": "stream",
     "text": [
      "54\n",
      "['Alabama Splash Adventure' 'Beech Bend' 'Blackpool Pleasure Beach'\n",
      " 'Califoria’s Great America' 'California’s Great America' 'Cedar Point'\n",
      " 'Conneaut Lake' 'Conneaut Lake Park' 'Dollywood' 'Europa-Park' 'Everland'\n",
      " 'Freitzeitpark Plohn' 'Fun Spot' 'Fun Spot America' 'Gröna Lund'\n",
      " 'Heide Park' 'Hersheypark' 'Holiday World' 'Kemah Boardwalk' 'Kennywood'\n",
      " 'Kings Dominion' 'Kings Island' 'Knight Valley'\n",
      " 'Knoebels Amusement Resort' 'Knott’s Berry Farm' 'Kolmården'\n",
      " 'Lake Compounce' 'Liseberg' 'Luna Park' 'Luna Park/Coney Island'\n",
      " 'Michigan’s Adventure' 'Mount Olympus' 'Mt. Olympus Theme Park' 'Oakwood'\n",
      " 'Oakwood Leisure Park' 'PNE Playland' 'Playland' 'Quassy Amusement Park'\n",
      " 'Santa Cruz Beach Boardwalk' 'Silver Dollar City' 'Silverwood'\n",
      " 'Six Flags America' 'Six Flags Great Adventure' 'Six Flags Great America'\n",
      " 'Six Flags St. Louis' 'Tayto Park' 'The Great Escape' 'Tivoli Gardens'\n",
      " 'Toverland' 'Valleyfair' 'Waldameer' 'Worlds of Fun' 'ZDTs' 'ZDT’s']\n"
     ]
    }
   ],
   "source": [
    "#Inspection of Park  variable \n",
    "print(dataset_obs.sort_values(by=[\"Park\"]).Park.nunique())\n",
    "print(dataset_obs.sort_values(by=[\"Park\"]).Park.unique())"
   ]
  },
  {
   "cell_type": "markdown",
   "id": "a2d58dac",
   "metadata": {},
   "source": [
    "The output show the presence of 54 parks. However a deep inspection does show 8 mistakes in spelling names (Califoria’s Great America' and 'California’s Great America', 'Conneaut Lake' and 'Conneaut Lake Park', 'Mount Olympus' and 'Mt. Olympus Theme Park', Luna Park'  and 'Luna Park/Coney Island', Fun Spot' and  'Fun Spot America', 'ZDTs' and  'ZDT’s', PNE Playland' and 'Playland, and  Oakwood Leisure Park' 'Oakwood'). Therefore, these spelling mistakes have been removed through renaming them in the right format. "
   ]
  },
  {
   "cell_type": "code",
   "execution_count": 9,
   "id": "557626ca",
   "metadata": {},
   "outputs": [
    {
     "name": "stdout",
     "output_type": "stream",
     "text": [
      "['Alabama Splash Adventure' 'Beech Bend' 'Blackpool Pleasure Beach'\n",
      " 'California’s Great America' 'Cedar Point' 'Conneaut Lake Park'\n",
      " 'Dollywood' 'Europa-Park' 'Everland' 'Freitzeitpark Plohn'\n",
      " 'Fun Spot America' 'Gröna Lund' 'Heide Park' 'Hersheypark'\n",
      " 'Holiday World' 'Kemah Boardwalk' 'Kennywood' 'Kings Dominion'\n",
      " 'Kings Island' 'Knight Valley' 'Knoebels Amusement Resort'\n",
      " 'Knott’s Berry Farm' 'Kolmården' 'Lake Compounce' 'Liseberg'\n",
      " 'Luna Park/Coney Island' 'Michigan’s Adventure' 'Mt. Olympus Theme Park'\n",
      " 'Oakwood' 'Playland' 'Quassy Amusement Park' 'Santa Cruz Beach Boardwalk'\n",
      " 'Silver Dollar City' 'Silverwood' 'Six Flags America'\n",
      " 'Six Flags Great Adventure' 'Six Flags Great America'\n",
      " 'Six Flags St. Louis' 'Tayto Park' 'The Great Escape' 'Tivoli Gardens'\n",
      " 'Toverland' 'Valleyfair' 'Waldameer' 'Worlds of Fun' 'ZDTs']\n",
      "46\n"
     ]
    }
   ],
   "source": [
    "#Rename to delete the mistakes in spelling of some parks in the wood ranking roller coaster dataframe\n",
    "dataset_obs[\"Park\"] = dataset_obs[\"Park\"].replace(['Califoria’s Great America'], 'California’s Great America')\n",
    "dataset_obs['Park'] = dataset_obs['Park'].replace(['Conneaut Lake'], 'Conneaut Lake Park')\n",
    "dataset_obs['Park'] = dataset_obs['Park'].replace(['Mount Olympus'], 'Mt. Olympus Theme Park')\n",
    "dataset_obs['Park'] = dataset_obs['Park'].replace(['Luna Park'], 'Luna Park/Coney Island')\n",
    "dataset_obs['Park'] = dataset_obs['Park'].replace(['Fun Spot'], 'Fun Spot America')\n",
    "dataset_obs['Park'] = dataset_obs['Park'].replace(['ZDT’s'], 'ZDTs')\n",
    "dataset_obs['Park'] = dataset_obs['Park'].replace(['PNE Playland'], 'Playland')\n",
    "dataset_obs['Park'] = dataset_obs['Park'].replace(['Oakwood Leisure Park'], 'Oakwood')\n",
    "\n",
    "print(dataset_obs.sort_values(by=[\"Park\"]).Park.unique())\n",
    "print(dataset_obs.sort_values(by=[\"Park\"]).Park.nunique())"
   ]
  },
  {
   "cell_type": "markdown",
   "id": "3728bc2f",
   "metadata": {},
   "source": [
    "Renaming names parks does reduce the number of names parks of 46 (instead of 56)"
   ]
  },
  {
   "cell_type": "code",
   "execution_count": 10,
   "id": "67980a20",
   "metadata": {},
   "outputs": [
    {
     "name": "stdout",
     "output_type": "stream",
     "text": [
      "50\n",
      "[ 1  2  3  4  5  6  7  8  9 10 11 12 13 14 15 16 17 18 19 20 21 22 23 24\n",
      " 25 26 27 28 29 30 31 32 33 34 35 36 37 38 39 40 41 42 43 44 45 46 47 48\n",
      " 49 50]\n"
     ]
    }
   ],
   "source": [
    "#Inspection Rank variable\n",
    "print(dataset_obs.sort_values(by=[\"Rank\"]).Rank.nunique())\n",
    "print(dataset_obs.sort_values(by=[\"Rank\"]).Rank.unique())"
   ]
  },
  {
   "cell_type": "markdown",
   "id": "0b501e85",
   "metadata": {},
   "source": [
    "Inspection and eventually clean up of spelling mistakes of the variables enclsoed in the steel roller coaster Dataframe."
   ]
  },
  {
   "cell_type": "code",
   "execution_count": 11,
   "id": "ad395048",
   "metadata": {},
   "outputs": [
    {
     "name": "stdout",
     "output_type": "stream",
     "text": [
      "63\n",
      "['Alpengeist' 'Apollo’s Chariot' 'Banshee' 'Behemoth' 'Bizarro'\n",
      " 'Black Mamba' 'Blue Fire' 'Cannibal' 'Cheetah Hunt' 'Diamondback'\n",
      " 'Euro-Mir' 'Expedition Everest' 'Expedition GeForce' 'Full Throttle'\n",
      " 'Fury 325' 'GateKeeper' 'Goliath' 'Griffon' 'Helix' 'Intimidator'\n",
      " 'Intimidator 305' 'Intimidator-305' 'Iron Rattler' 'Jetline' 'Kumba'\n",
      " 'Leviathan' 'Lightning Run' 'Lisebergbanan' 'Magnum XL-200' 'Mako'\n",
      " 'Maverick' 'Medusa Steel Coaster' 'Millennium Force' 'Mind Bender'\n",
      " 'Montu' 'Nemesis' 'New Texas Giant' 'Nitro' 'Olympia Looping'\n",
      " 'Phantom’s Revenge' 'Quimera' 'Raging Bull' 'Raptor' 'Shambhala'\n",
      " 'Shock Wave' 'Skyrush' 'Steel Force' 'Steel Vengeance' 'Storm Chaser'\n",
      " 'Superman Ride of Steel' 'Superman The Ride' 'Superman: The Ride' 'Taron'\n",
      " 'Thunderbird' 'Time Traveler' 'Top Thrill Dragster' 'Twisted Colossus'\n",
      " 'Twisted Timbers' 'Verbolten' 'Whizzer' 'Wicked Cyclone' 'Wild Eagle'\n",
      " 'X2']\n"
     ]
    }
   ],
   "source": [
    "# Inspection Variable Name\n",
    "print(dataset2_obs.sort_values(by=[\"Name\"]).Name.nunique())\n",
    "print(dataset2_obs.sort_values(by=[\"Name\"]).Name.unique())"
   ]
  },
  {
   "cell_type": "markdown",
   "id": "4deb778f",
   "metadata": {},
   "source": [
    "The output shows the presence of 63 names of steel rollers coaster. However, a deep inspection of the output does point out mistakes in the spelling of two park names ('Intimidator 305' 'Intimidator-305' and 'Superman Ride of Steel' 'Superman The Ride' 'Superman: The Ride', repsectively). Therefore, these mistakes have been removed renaming them in the right format."
   ]
  },
  {
   "cell_type": "code",
   "execution_count": 12,
   "id": "70846337",
   "metadata": {},
   "outputs": [
    {
     "name": "stdout",
     "output_type": "stream",
     "text": [
      "['Alpengeist' 'Apollo’s Chariot' 'Banshee' 'Behemoth' 'Bizarro'\n",
      " 'Black Mamba' 'Blue Fire' 'Cannibal' 'Cheetah Hunt' 'Diamondback'\n",
      " 'Euro-Mir' 'Expedition Everest' 'Expedition GeForce' 'Full Throttle'\n",
      " 'Fury 325' 'GateKeeper' 'Goliath' 'Griffon' 'Helix' 'Intimidator'\n",
      " 'Iron Rattler' 'Jetline' 'Kumba' 'Leviathan' 'Lightning Run'\n",
      " 'Lisebergbanan' 'Magnum XL-200' 'Mako' 'Maverick' 'Medusa Steel Coaster'\n",
      " 'Millennium Force' 'Mind Bender' 'Montu' 'Nemesis' 'New Texas Giant'\n",
      " 'Nitro' 'Olympia Looping' 'Phantom’s Revenge' 'Quimera' 'Raging Bull'\n",
      " 'Raptor' 'Shambhala' 'Shock Wave' 'Skyrush' 'Steel Force'\n",
      " 'Steel Vengeance' 'Storm Chaser' 'Superman Ride of Steel' 'Taron'\n",
      " 'Thunderbird' 'Time Traveler' 'Top Thrill Dragster' 'Twisted Colossus'\n",
      " 'Twisted Timbers' 'Verbolten' 'Whizzer' 'Wicked Cyclone' 'Wild Eagle'\n",
      " 'X2']\n",
      "59\n"
     ]
    }
   ],
   "source": [
    "#Rename to delete the mistake of wrong nammes\n",
    "dataset2_obs['Name'] = dataset2_obs['Name'].replace(['Intimidator 305'], 'Intimidator')\n",
    "dataset2_obs['Name'] = dataset2_obs['Name'].replace(['Intimidator-305'], 'Intimidator')\n",
    "dataset2_obs['Name'] = dataset2_obs['Name'].replace(['Superman The Ride'], 'Superman Ride of Steel')\n",
    "dataset2_obs['Name'] = dataset2_obs['Name'].replace(['Superman: The Ride'], 'Superman Ride of Steel')\n",
    "print(dataset2_obs.sort_values(by=[\"Name\"]).Name.unique())\n",
    "print(dataset2_obs.sort_values(by=[\"Name\"]).Name.nunique())"
   ]
  },
  {
   "cell_type": "markdown",
   "id": "6c38aa52",
   "metadata": {},
   "source": [
    "Renaming names parks in the roller coaster steel Dataframe does reduce the number of names parks of 59 (instead of 63)."
   ]
  },
  {
   "cell_type": "code",
   "execution_count": 13,
   "id": "b95e576b",
   "metadata": {},
   "outputs": [
    {
     "name": "stdout",
     "output_type": "stream",
     "text": [
      "36\n",
      "['Alton Towers' 'Busch Gardens Tampa' 'Busch Gardens Williamsburg'\n",
      " 'Canada’s Wonderland' 'Carowinds' 'Cedar Point' 'Disney’s Animal Kingdom'\n",
      " 'Dollywood' 'Dorney Park' 'Europa-Park' 'Gröna Lund' 'Hersheypark'\n",
      " 'Holiday Park' 'Holiday World' 'Kennywood' 'Kentucky Kingdom'\n",
      " 'Kings Dominion' 'Kings Island' 'La Feria' 'La Ronde' 'Lagoon' 'Liseberg'\n",
      " 'Phantasialand' 'PortAventura' 'SeaWorld Orlando' 'Silver Dollar City'\n",
      " 'Six Flags America' 'Six Flags Fiesta Texas' 'Six Flags Great Adventure'\n",
      " 'Six Flags Great America' 'Six Flags Magic Mountain' 'Six Flags Mexico'\n",
      " 'Six Flags New England' 'Six Flags Over Georgia' 'Six Flags Over Texas'\n",
      " 'Weiner Prater']\n"
     ]
    }
   ],
   "source": [
    "# Inspection Variable Park\n",
    "print(dataset2_obs.sort_values(by=[\"Park\"]).Park.nunique())\n",
    "print(dataset2_obs.sort_values(by=[\"Park\"]).Park.unique())"
   ]
  },
  {
   "cell_type": "markdown",
   "id": "064c2f2a",
   "metadata": {},
   "source": [
    "The output does show the presence of 36 parks related to the roller coaster steel. A further deep inspection has been shown the absence of mistakes in spelling the name of the parks. "
   ]
  },
  {
   "cell_type": "code",
   "execution_count": 14,
   "id": "93c9a9c7",
   "metadata": {},
   "outputs": [
    {
     "name": "stdout",
     "output_type": "stream",
     "text": [
      "50\n",
      "[ 1  2  3  4  5  6  7  8  9 10 11 12 13 14 15 16 17 18 19 20 21 22 23 24\n",
      " 25 26 27 28 29 30 31 32 33 34 35 36 37 38 39 40 41 42 43 44 45 46 47 48\n",
      " 49 50]\n"
     ]
    }
   ],
   "source": [
    "# Inspection Variable Rank\n",
    "print(dataset2_obs.sort_values(by=[\"Rank\"]).Rank.nunique())\n",
    "print(dataset2_obs.sort_values(by=[\"Rank\"]).Rank.unique())"
   ]
  },
  {
   "cell_type": "markdown",
   "id": "2ef4e105",
   "metadata": {},
   "source": [
    "The output does show that the number of rank in both datasets (wood and steel roller coasters) is the same (50)."
   ]
  },
  {
   "cell_type": "markdown",
   "id": "420f89ea",
   "metadata": {},
   "source": [
    "DATA VISUALISATION"
   ]
  },
  {
   "cell_type": "markdown",
   "id": "e467d2fb",
   "metadata": {},
   "source": [
    "Make plot that will show the ranking of a given roller coaster over time as a line. In detail, it has been choosen to plot the ranking of \"El Toro\" roller coaster enclosed in the wood ranking Dataframe."
   ]
  },
  {
   "cell_type": "code",
   "execution_count": 15,
   "id": "103d4028",
   "metadata": {},
   "outputs": [
    {
     "name": "stdout",
     "output_type": "stream",
     "text": [
      "['American Thunder' 'Balder' 'Beast' 'Blue Streak' 'Boardwalk Bullet'\n",
      " 'Boss' 'Boulder Dash' 'Colossos' 'Comet' 'Cyclone' 'Cú Chulainn'\n",
      " 'El Toro' 'Flying Turns' 'GhostRider' 'Giant Dipper' 'Gold Striker'\n",
      " 'Goliath' 'Grand National' 'Grizzly' 'Hades 360' 'Jack Rabbit'\n",
      " 'Kentucky Rumbler' 'Legend' 'Lightning Racer' 'Lightning Rod' 'Megafobia'\n",
      " 'Mine Blower' 'Mystic Timbers' 'Outlaw Run' 'Phoenix'\n",
      " 'Playland Wooden Coaster' 'Prowler' 'Racer' 'Rampage' 'Raven'\n",
      " 'Ravine Flyer II' 'Renegade' 'Rutschebanan' 'Screamin’ Eagle'\n",
      " 'Shivering Timbers' 'Switchback' 'T Express' 'The Beast' 'The Boss'\n",
      " 'The Legend' 'The Raven' 'Thunderbolt' 'Thunderhead' 'Tremors' 'Troy'\n",
      " 'Twister' 'Voyage' 'White Lightning' 'Wild Mouse' 'Wild One' 'Wildfire'\n",
      " 'Wodan' 'Wood Coaster' 'Wooden Warrior']\n"
     ]
    }
   ],
   "source": [
    "#Get an insight into the required name of roller coaster \"El Toro\" in the the wood roller coaster dataframe\n",
    "print(dataset_obs.sort_values(by=[\"Name\"]).Name.unique())"
   ]
  },
  {
   "cell_type": "markdown",
   "id": "d8487c65",
   "metadata": {},
   "source": [
    "To make the plot, a function has been defined to take into account a roller coaster'name (in our example 'El Toro') and the wood ranking DataFrame as argument. "
   ]
  },
  {
   "cell_type": "code",
   "execution_count": 16,
   "id": "1b7f0415",
   "metadata": {},
   "outputs": [
    {
     "data": {
      "image/png": "[encoded data removed]",
      "text/plain": [
       "<Figure size 720x576 with 1 Axes>"
      ]
     },
     "metadata": {
      "needs_background": "light"
     },
     "output_type": "display_data"
    },
    {
     "data": {
      "text/plain": [
       "<Figure size 432x288 with 0 Axes>"
      ]
     },
     "metadata": {},
     "output_type": "display_data"
    }
   ],
   "source": [
    "def plotrankings(coaster, dataset_obs):\n",
    "    dataset_obs1 = dataset_obs[(dataset_obs['Name'] == coaster)]\n",
    "    x = dataset_obs1['Year of Rank']\n",
    "    y = dataset_obs1['Rank']\n",
    "    plt.figure(figsize=(10,8))\n",
    "    plt.plot(x, y, linestyle = '--', marker = 'o', label = coaster)\n",
    "    plt.title('Ranking of a given roller coaster over time')\n",
    "    plt.xlabel('Year')\n",
    "    plt.ylabel('Rank')\n",
    "    plt.legend()\n",
    "    plt.savefig('Fig1.png')\n",
    "    plt.show()\n",
    "\n",
    "plotrankings('El Toro', dataset_obs)\n",
    "plt.clf()"
   ]
  },
  {
   "cell_type": "markdown",
   "id": "b1b49c35",
   "metadata": {},
   "source": [
    "The plot does have however some issues. Since “El Toro” is not a unique roller coaster name, the plot generated by the function does show multiple rankings for a given year. To fix this issue, an additional argument park_name has been added to the function in order to differentiate between roller coasters of the same name at different amusement parks. Therefore, the function has been updated with an additional argument to solve the issue, and further the function has been retested.\n",
    "\n",
    "In detail, it has been choosen to plot the ranking of \"El Toro\" roller coaster in the 'Six Flags Great Adventure' enclosed in the wood ranking Dataframe. Besides, in order to better represent increases and decreases in rank, the y-axis of the plot has been inverted. This has been performed calling .invert_yaxis() on the axes of the plot."
   ]
  },
  {
   "cell_type": "code",
   "execution_count": 17,
   "id": "88ab7350",
   "metadata": {},
   "outputs": [
    {
     "name": "stdout",
     "output_type": "stream",
     "text": [
      "     Rank     Name                       Park             Location  \\\n",
      "1       2  El Toro  Six Flags Great Adventure        Jackson, N.J.   \n",
      "11      2  El Toro  Six Flags Great Adventure        Jackson, N.J.   \n",
      "21      2  El Toro  Six Flags Great Adventure        Jackson, N.J.   \n",
      "32      3  El Toro  Six Flags Great Adventure        Jackson, N.J.   \n",
      "55     25  El Toro        Freitzeitpark Plohn  Legendfeld, Germany   \n",
      "80      1  El Toro  Six Flags Great Adventure        Jackson, N.J.   \n",
      "120    41  El Toro        Freitzeitpark Plohn  Legendfeld, Germany   \n",
      "131     2  El Toro  Six Flags Great Adventure        Jackson, N.J.   \n",
      "\n",
      "                Supplier  Year Built  Points  Year of Rank Material  \n",
      "1                Intamin        2006    1302          2013   Wooden  \n",
      "11               Intamin        2006    1291          2014   Wooden  \n",
      "21               Intamin        2006    1464          2015   Wooden  \n",
      "32               Intamin        2006    1121          2016   Wooden  \n",
      "55   Great Coasters Int.        2009     166          2016   Wooden  \n",
      "80               Intamin        2009    1241          2017   Wooden  \n",
      "120  Great Coasters Int.        2006      92          2017   Wooden  \n",
      "131              Intamin        2006    1197          2018   Wooden  \n"
     ]
    }
   ],
   "source": [
    "#Get an insight into the required name of roller coaster \"El Toro\"  in the required park in the the wood roller coaster dataframe\n",
    "dataset_et = dataset_obs[(dataset_obs['Name'] == 'El Toro')] \n",
    "print(dataset_et)"
   ]
  },
  {
   "cell_type": "code",
   "execution_count": 18,
   "id": "eb5a0f96",
   "metadata": {},
   "outputs": [
    {
     "data": {
      "image/png": "[encoded data removed]",
      "text/plain": [
       "<Figure size 720x576 with 1 Axes>"
      ]
     },
     "metadata": {
      "needs_background": "light"
     },
     "output_type": "display_data"
    },
    {
     "data": {
      "text/plain": [
       "<Figure size 432x288 with 0 Axes>"
      ]
     },
     "metadata": {},
     "output_type": "display_data"
    }
   ],
   "source": [
    "## function with rollercoaster name, type and loaction)\n",
    "def plotrankings(coaster, dataset_obs, park):\n",
    "    plt.figure(figsize=(10,8))\n",
    "    ax = plt.subplot()\n",
    "    dataset_obs1 = dataset_obs[(dataset_obs['Name'] == coaster) & (dataset_obs['Park'] == park)] #logical statements to select a subset of the ranking DataFrame, only selecting the rows that are relevant to our particular roller coaster of interest.\n",
    "    x = dataset_obs1['Year of Rank']\n",
    "    y = dataset_obs1['Rank']\n",
    "    plt.plot(x, y, linestyle = '--', marker = 'o', label = coaster) #To plot the “rank” column against the “year of rank” column to produce the visualization.\n",
    "    ax.invert_yaxis()  #calling .invert_yaxis() on the axes of the plot\n",
    "    plt.title('Ranking of a given roller coaster in a given park (Six Flags Great Adventure) over time')\n",
    "    plt.xlabel('Year of Rank')\n",
    "    plt.ylabel('Rank')\n",
    "    plt.legend()\n",
    "    plt.savefig('Fig2.png')\n",
    "    plt.show()\n",
    "\n",
    "plotrankings('El Toro', dataset_obs, 'Six Flags Great Adventure')\n",
    "plt.clf()"
   ]
  },
  {
   "cell_type": "markdown",
   "id": "89af5aab",
   "metadata": {},
   "source": [
    "The plot show a costant trend between 2013 till 2015, follow by a increase till 2016, an decrease in 2017 and again a increase in 2018."
   ]
  },
  {
   "cell_type": "markdown",
   "id": "488dcaaf",
   "metadata": {},
   "source": []
  },
  {
   "cell_type": "markdown",
   "id": "a64676c7",
   "metadata": {},
   "source": [
    "Plot the ranking of two given roller coasters over time as lines. To achieve this, the function should take both roller coasters' names and a ranking DataFrame as arguments.\n",
    "\n",
    "In this specific example, it has been choosen to plot the wood ranking of \"El Toro\" as one roller coaster name, and \"Boulder Dash\" as the other roller coaster name. Also in this plot, in order to better represent increases and decreases in rank, the y-axis of the  plot has been inverted. "
   ]
  },
  {
   "cell_type": "code",
   "execution_count": 19,
   "id": "8db24301",
   "metadata": {},
   "outputs": [
    {
     "data": {
      "text/plain": [
       "<Figure size 720x576 with 0 Axes>"
      ]
     },
     "metadata": {},
     "output_type": "display_data"
    },
    {
     "data": {
      "image/png": "[encoded data removed]",
      "text/plain": [
       "<Figure size 720x576 with 1 Axes>"
      ]
     },
     "metadata": {
      "needs_background": "light"
     },
     "output_type": "display_data"
    },
    {
     "data": {
      "text/plain": [
       "<Figure size 432x288 with 0 Axes>"
      ]
     },
     "metadata": {},
     "output_type": "display_data"
    }
   ],
   "source": [
    "#Create a function to plot rankings over time for 2 roller coasters\n",
    "def plotrankings(coaster1, coaster2, dataset_obs):\n",
    "    plt.figure(figsize=(10,8))\n",
    "    dataset_obs1 = dataset_obs[(dataset_obs['Name'] == coaster1)]\n",
    "    dataset_obs2 = dataset_obs[(dataset_obs['Name'] == coaster2)]\n",
    "    x1 = dataset_obs1['Year of Rank']\n",
    "    y1 = dataset_obs1['Rank']\n",
    "    x2 = dataset_obs2['Year of Rank']\n",
    "    y2 = dataset_obs2['Rank']\n",
    "    plt.figure(figsize=(10,8))\n",
    "    plt.plot(x1, y1, linestyle = '--', color = 'red', marker = 'o', label = coaster1)\n",
    "    plt.plot(x2, y2, linestyle = '--', color = 'blue', marker = 'o', label = coaster2)\n",
    "    ax = plt.subplot()\n",
    "    ax.invert_yaxis() #calling .invert_yaxis() on the axes of the plot\n",
    "    \n",
    "    \n",
    "    plt.title('Ranking of two given wood roller coasters over time')\n",
    "    plt.xlabel('Year of Rank')\n",
    "    plt.ylabel('Rank')\n",
    "    plt.legend()\n",
    "    plt.savefig('Fig3.png')\n",
    "    plt.show()\n",
    "\n",
    "\n",
    "plotrankings('El Toro', 'Boulder Dash', dataset_obs)# Create a plot of El Toro and Boulder Dash roller coasters\n",
    "plt.clf()"
   ]
  },
  {
   "cell_type": "markdown",
   "id": "40fcc1a5",
   "metadata": {},
   "source": [
    "The plot does have however some issues. Since the two given wood roller coasters are not unique roller coaster name, the plot generated by the function does show multiple rankings for a given year. "
   ]
  },
  {
   "cell_type": "code",
   "execution_count": 20,
   "id": "a4d8b3ab",
   "metadata": {},
   "outputs": [
    {
     "name": "stdout",
     "output_type": "stream",
     "text": [
      "     Rank     Name                       Park             Location  \\\n",
      "1       2  El Toro  Six Flags Great Adventure        Jackson, N.J.   \n",
      "11      2  El Toro  Six Flags Great Adventure        Jackson, N.J.   \n",
      "21      2  El Toro  Six Flags Great Adventure        Jackson, N.J.   \n",
      "32      3  El Toro  Six Flags Great Adventure        Jackson, N.J.   \n",
      "55     25  El Toro        Freitzeitpark Plohn  Legendfeld, Germany   \n",
      "80      1  El Toro  Six Flags Great Adventure        Jackson, N.J.   \n",
      "120    41  El Toro        Freitzeitpark Plohn  Legendfeld, Germany   \n",
      "131     2  El Toro  Six Flags Great Adventure        Jackson, N.J.   \n",
      "\n",
      "                Supplier  Year Built  Points  Year of Rank Material  \n",
      "1                Intamin        2006    1302          2013   Wooden  \n",
      "11               Intamin        2006    1291          2014   Wooden  \n",
      "21               Intamin        2006    1464          2015   Wooden  \n",
      "32               Intamin        2006    1121          2016   Wooden  \n",
      "55   Great Coasters Int.        2009     166          2016   Wooden  \n",
      "80               Intamin        2009    1241          2017   Wooden  \n",
      "120  Great Coasters Int.        2006      92          2017   Wooden  \n",
      "131              Intamin        2006    1197          2018   Wooden  \n",
      "     Rank          Name            Park        Location         Supplier  \\\n",
      "0       1  Boulder Dash  Lake Compounce  Bristol, Conn.              CCI   \n",
      "10      1  Boulder Dash  Lake Compounce  Bristol, Conn.              CCI   \n",
      "20      1  Boulder Dash  Lake Compounce  Bristol, Conn.              CCI   \n",
      "30      1  Boulder Dash  Lake Compounce  Bristol, Conn.  Custom Coasters   \n",
      "82      3  Boulder Dash  Lake Compounce  Bristol, Conn.  Custom Coasters   \n",
      "133     4  Boulder Dash  Lake Compounce  Bristol, Conn.  Custom Coasters   \n",
      "\n",
      "     Year Built  Points  Year of Rank Material  \n",
      "0          2000    1333          2013   Wooden  \n",
      "10         2000    1480          2014   Wooden  \n",
      "20         2000    1625          2015   Wooden  \n",
      "30         2000    1216          2016   Wooden  \n",
      "82         2000    1171          2017   Wooden  \n",
      "133        2000     982          2018   Wooden  \n"
     ]
    }
   ],
   "source": [
    "dataset_et = dataset_obs[(dataset_obs['Name'] == 'El Toro')] \n",
    "print(dataset_et)\n",
    "\n",
    "dataset_et1 = dataset_obs[(dataset_obs['Name'] == 'Boulder Dash')] \n",
    "print(dataset_et1)"
   ]
  },
  {
   "cell_type": "markdown",
   "id": "c394b8f7",
   "metadata": {},
   "source": [
    "To fix this issue, an additional argument park_name has been added to the function in order to differentiate between roller coasters of the same name at different amusement parks.\n",
    "\n",
    "Therefore, the function has been updated with an additional argument and further has been retested. Follow the plot that does display \"El Toro\" roller coaster in the 'Six Flags Great Adventure' park and 'Boulder Dash' in Lake Compounce park. Besides, in order to better represent increases and decreases in rank, the y-axis of the  plot has been inverted. This has been performed calling .invert_yaxis() on the axes of the plot."
   ]
  },
  {
   "cell_type": "code",
   "execution_count": 21,
   "id": "88fb8094",
   "metadata": {},
   "outputs": [
    {
     "data": {
      "image/png": "[encoded data removed]",
      "text/plain": [
       "<Figure size 720x576 with 1 Axes>"
      ]
     },
     "metadata": {
      "needs_background": "light"
     },
     "output_type": "display_data"
    },
    {
     "data": {
      "text/plain": [
       "<Figure size 432x288 with 0 Axes>"
      ]
     },
     "metadata": {},
     "output_type": "display_data"
    }
   ],
   "source": [
    "# function with two rollercoasters and park names /# Create a plot of El Toro and Boulder Dash roller coasters in two given parks\n",
    "def plotrankings(coaster1, coaster2, park1, park2, dataset_obs):\n",
    "    dataset_obs1 = dataset_obs[(dataset_obs['Name'] == coaster1) & (dataset_obs['Park'] == park1)]\n",
    "    dataset_obs2 = dataset_obs[(dataset_obs['Name'] == coaster2) & (dataset_obs['Park'] == park2)]\n",
    "    x1 = dataset_obs1['Year of Rank']\n",
    "    y1 = dataset_obs1['Rank']\n",
    "    x2 = dataset_obs2['Year of Rank']\n",
    "    y2 = dataset_obs2['Rank']\n",
    "    plt.figure(figsize=(10,8))\n",
    "    plt.plot(x1, y1, linestyle = '--', color = 'red', marker = 'o', label = coaster1)\n",
    "    plt.plot(x2, y2, linestyle = '--', color = 'blue', marker = 'o', label = coaster2)\n",
    "    ax = plt.subplot()\n",
    "    ax.invert_yaxis() #calling .invert_yaxis() on the axes of the plot\n",
    "    \n",
    "    plt.title('Ranking of given wood roller coasters in two given parks over time')\n",
    "    plt.xlabel('Year of Rank')\n",
    "    plt.ylabel('Rank')\n",
    "    plt.legend()\n",
    "    plt.savefig('Fig4.png')\n",
    "    plt.show()\n",
    "\n",
    "plotrankings('El Toro', 'Boulder Dash', 'Six Flags Great Adventure', 'Lake Compounce', dataset_obs)    \n",
    "plt.clf()\n"
   ]
  },
  {
   "cell_type": "markdown",
   "id": "f2464d97",
   "metadata": {},
   "source": [
    "The plot does show that the rend of  el tore have a higher trend campared to the boulder dasch from 2013 till 2016. After this period, however, the ranking of booulder is higher, reaching 4 rank in 2018. "
   ]
  },
  {
   "cell_type": "markdown",
   "id": "785218f7",
   "metadata": {},
   "source": [
    "Plot the ranking of the top n ranked roller coasters over time as lines. To achieve this, the function should take a number n and a ranking DataFrame as arguments.For example, if n == 5, the function should plot a line for each roller coaster that has a rank of 5 or lower. Besides the function with a value of n and either the wood ranking or steel ranking DataFrame."
   ]
  },
  {
   "cell_type": "markdown",
   "id": "1abcee35",
   "metadata": {},
   "source": [
    "Wood Ranking DataFrame"
   ]
  },
  {
   "cell_type": "code",
   "execution_count": 22,
   "id": "8a8dee97",
   "metadata": {},
   "outputs": [
    {
     "name": "stdout",
     "output_type": "stream",
     "text": [
      "   index  Rank          Name                       Park             Location  \\\n",
      "0      0     1  Boulder Dash             Lake Compounce       Bristol, Conn.   \n",
      "1      1     2       El Toro  Six Flags Great Adventure        Jackson, N.J.   \n",
      "2      2     3       Phoenix  Knoebels Amusement Resort        Elysburg, Pa.   \n",
      "3      3     4        Voyage              Holiday World    Santa Claus, Ind.   \n",
      "4      4     5   Thunderhead                  Dollywood  Pigeon Forge, Tenn.   \n",
      "\n",
      "           Supplier  Year Built  Points  Year of Rank Material  \n",
      "0               CCI        2000    1333          2013   Wooden  \n",
      "1           Intamin        2006    1302          2013   Wooden  \n",
      "2  Dinn/PTC-Schmeck        1985    1088          2013   Wooden  \n",
      "3     Gravity Group        2006    1086          2013   Wooden  \n",
      "4              GCII        2004     923          2013   Wooden  \n"
     ]
    },
    {
     "data": {
      "text/plain": [
       "array(['Beast', 'Boulder Dash', 'El Toro', 'Lightning Rod', 'Phoenix',\n",
       "       'Ravine Flyer II', 'Thunderhead', 'Voyage'], dtype=object)"
      ]
     },
     "execution_count": 22,
     "metadata": {},
     "output_type": "execute_result"
    }
   ],
   "source": [
    "dataset_obs1 = dataset_obs[(dataset_obs['Rank'] <= 5)].reset_index()\n",
    "print(dataset_obs1.head())\n",
    "dataset_obs1.sort_values(by=[\"Name\"]).Name.nunique()\n",
    "dataset_obs1.sort_values(by=[\"Name\"]).Name.unique()"
   ]
  },
  {
   "cell_type": "code",
   "execution_count": 23,
   "id": "52ba23dc",
   "metadata": {},
   "outputs": [
    {
     "name": "stdout",
     "output_type": "stream",
     "text": [
      "Name  Year of Rank  Beast  Boulder Dash  El Toro  Lightning Rod  Phoenix  \\\n",
      "0             2013    NaN           1.0      2.0            NaN      3.0   \n",
      "1             2014    NaN           1.0      2.0            NaN      4.0   \n",
      "2             2015    NaN           1.0      2.0            NaN      3.0   \n",
      "3             2016    NaN           1.0      3.0            NaN      2.0   \n",
      "4             2017    NaN           3.0      1.0            5.0      2.0   \n",
      "5             2018    5.0           4.0      2.0            NaN      1.0   \n",
      "\n",
      "Name  Ravine Flyer II  Thunderhead  Voyage  \n",
      "0                 NaN          5.0     4.0  \n",
      "1                 NaN          5.0     3.0  \n",
      "2                 NaN          5.0     4.0  \n",
      "3                 5.0          NaN     4.0  \n",
      "4                 NaN          NaN     4.0  \n",
      "5                 NaN          NaN     3.0  \n"
     ]
    }
   ],
   "source": [
    "dataset_obs1_pivot = dataset_obs1.pivot(columns = 'Name', index = 'Year of Rank', values= 'Rank').reset_index()\n",
    "print(dataset_obs1_pivot)"
   ]
  },
  {
   "cell_type": "markdown",
   "id": "dd4532a1",
   "metadata": {},
   "source": [
    "The output shows the presence of Nan values of some wood roller coasters ( with a rank of 5 or lower) in the range of period under consideration (2013-2018). In detail, three of them (Lightning Rod, Beast, and Ravine Flyer II)  have only a value of rank for a specific year. \n",
    "Since the main interest is  plotting the ranking of the top n ranked roller coasters over time as lines, and taking into consideration that at least two measures (points) are required to draw a line, it has been decided to drop out these three names from the plot. With concern the others, Boulder Dash, El Toro, Phoenix and Voyage do seem have values for each year of the range of period, meanwhile Thunderhead  shows a time trend from 2013 till 2015.\n",
    "Besides, in order to better represent increases and decreases in rank, the y-axis of the  plot has been inverted. "
   ]
  },
  {
   "cell_type": "code",
   "execution_count": 24,
   "id": "5110eddc",
   "metadata": {},
   "outputs": [
    {
     "name": "stdout",
     "output_type": "stream",
     "text": [
      "   index  Rank          Name                       Park             Location  \\\n",
      "0      0     1  Boulder Dash             Lake Compounce       Bristol, Conn.   \n",
      "1      1     2       El Toro  Six Flags Great Adventure        Jackson, N.J.   \n",
      "2      2     3       Phoenix  Knoebels Amusement Resort        Elysburg, Pa.   \n",
      "3      3     4        Voyage              Holiday World    Santa Claus, Ind.   \n",
      "4      4     5   Thunderhead                  Dollywood  Pigeon Forge, Tenn.   \n",
      "\n",
      "           Supplier  Year Built  Points  Year of Rank Material  \n",
      "0               CCI        2000    1333          2013   Wooden  \n",
      "1           Intamin        2006    1302          2013   Wooden  \n",
      "2  Dinn/PTC-Schmeck        1985    1088          2013   Wooden  \n",
      "3     Gravity Group        2006    1086          2013   Wooden  \n",
      "4              GCII        2004     923          2013   Wooden  \n"
     ]
    },
    {
     "data": {
      "text/plain": [
       "array(['Boulder Dash', 'El Toro', 'Phoenix', 'Thunderhead', 'Voyage'],\n",
       "      dtype=object)"
      ]
     },
     "execution_count": 24,
     "metadata": {},
     "output_type": "execute_result"
    }
   ],
   "source": [
    "#drop out name of wood roller coaster with only one observation\n",
    "dataset_obs1r = dataset_obs1[dataset_obs1.Name.isin(['Boulder Dash', 'El Toro', 'Phoenix', 'Voyage', 'Thunderhead'])]\n",
    "print(dataset_obs1r.head())\n",
    "dataset_obs1r.sort_values(by=[\"Name\"]).Name.nunique()\n",
    "dataset_obs1r.sort_values(by=[\"Name\"]).Name.unique()"
   ]
  },
  {
   "cell_type": "code",
   "execution_count": 25,
   "id": "4d01deee",
   "metadata": {},
   "outputs": [
    {
     "name": "stdout",
     "output_type": "stream",
     "text": [
      "Name  Year of Rank  Boulder Dash  El Toro  Phoenix  Thunderhead  Voyage\n",
      "0             2013           1.0      2.0      3.0          5.0     4.0\n",
      "1             2014           1.0      2.0      4.0          5.0     3.0\n",
      "2             2015           1.0      2.0      3.0          5.0     4.0\n",
      "3             2016           1.0      3.0      2.0          NaN     4.0\n",
      "4             2017           3.0      1.0      2.0          NaN     4.0\n",
      "5             2018           4.0      2.0      1.0          NaN     3.0\n"
     ]
    }
   ],
   "source": [
    "dataset_obs1rr_pivot = dataset_obs1r.pivot(columns = 'Name', index = 'Year of Rank', values= 'Rank').reset_index()\n",
    "print(dataset_obs1rr_pivot)"
   ]
  },
  {
   "cell_type": "code",
   "execution_count": 26,
   "id": "68dcf311",
   "metadata": {},
   "outputs": [
    {
     "name": "stdout",
     "output_type": "stream",
     "text": [
      "['Boulder Dash', 'El Toro', 'Phoenix', 'Thunderhead', 'Voyage']\n"
     ]
    }
   ],
   "source": [
    "coasters = list(dataset_obs1rr_pivot.columns[1:])\n",
    "print(coasters)"
   ]
  },
  {
   "cell_type": "code",
   "execution_count": 27,
   "id": "e4b943d1",
   "metadata": {},
   "outputs": [
    {
     "data": {
      "image/png": "[encoded data removed]",
      "text/plain": [
       "<Figure size 720x576 with 1 Axes>"
      ]
     },
     "metadata": {
      "needs_background": "light"
     },
     "output_type": "display_data"
    }
   ],
   "source": [
    "#Plot step (by step top) n rankings over time with inversion axis\n",
    "\n",
    "Boulder_year = [1.0, 1.0, 1.0, 1.0, 3.0, 4.0]\n",
    "Eltoro_year = [2.0, 2.0, 2.0, 3.0, 1.0, 2.0]\n",
    "Phonix_year = [3.0, 4.0, 3.0, 2.0, 2.0, 1.0]\n",
    "Voyage_year = [4.0, 3.0, 4.0, 4.0, 4.0, 3.0]\n",
    "Thunderhead_year = [5.0, 5.0, 5.0]\n",
    "year = [2013, 2014, 2015, 2016, 2017, 2018]\n",
    "year1 = [2013, 2014, 2015]\n",
    "\n",
    "\n",
    "plt.figure(figsize=(10,8))\n",
    "plt.plot(year, Boulder_year, color = 'pink', marker = 's')\n",
    "plt.plot(year, Eltoro_year, color='grey', marker = 's')\n",
    "plt.plot(year, Phonix_year, color = 'black', marker = 's')\n",
    "plt.plot(year, Voyage_year, color = 'red', marker = 's')\n",
    "plt.plot(year1, Thunderhead_year, color = 'yellow', marker = 's')\n",
    "\n",
    "ax = plt.subplot()\n",
    "ax.invert_yaxis() #calling .invert_yaxis() on the axes of the plot to better represent increases and decreases in rank\n",
    "\n",
    "#Enclose the legend to diffentiate the three plots \n",
    "legend_labels = ['Boulder Dash', 'El Toro', 'Phoenix', 'Voyage', 'Thunderhead']\n",
    "plt.legend(legend_labels, loc=0)\n",
    "\n",
    "plt.xlabel('Year of Rank') # Label the x_axis \n",
    "plt.ylabel('Rank')         # Label the y_axis \n",
    "\n",
    "plt.title('Wood rollers coasters at the first 5 places over the years') # Enclose title to the graph\n",
    "plt.savefig('Fig5.png')\n",
    "plt.show()"
   ]
  },
  {
   "cell_type": "markdown",
   "id": "b8f392a9",
   "metadata": {},
   "source": [
    "The plot show that Boulder Dash, El Toro, Phoenix and Voyage  have a ranking trend between 2013 till 2018, meanwhile Thunderhead  shows a time trend from 2013 till 2015.\n",
    "The plot shows that Thunderhead does have a constant (5) a (4 times) the higher ranking compared to the other roller coaster between 2013 till 2015. From 2015 till 2017 Voyage does have a constant (4) a higher trends comparared to the others, showing a decrease of ranking in 2018 to 3. Boulder Dash does have a constant a lower ranking between 2013 till 2016, with an increase of ranking from 2016 till 2018 (rank 1 and 4, repsectively). Neverless Phoenix does show an increase of rank beween 2013 and 2014, follow a decrease of ranking till 2018(to rank 1). El toro does show a constant rank between 2013 till 2015, and neverless a increase till 2016, follow a  decrease in 2017 and further increase to rank 2.   "
   ]
  },
  {
   "cell_type": "markdown",
   "id": "d189288e",
   "metadata": {},
   "source": [
    "Steel Ranking DataFrame"
   ]
  },
  {
   "cell_type": "code",
   "execution_count": 28,
   "id": "4db3bfee",
   "metadata": {},
   "outputs": [
    {
     "name": "stdout",
     "output_type": "stream",
     "text": [
      "   index  Rank                Name                        Park  \\\n",
      "0      0     1    Millennium Force                 Cedar Point   \n",
      "1      1     2             Bizarro       Six Flags New England   \n",
      "2      2     3  Expedition GeForce                Holiday Park   \n",
      "3      3     4               Nitro   Six Flags Great Adventure   \n",
      "4      4     5    Apollo’s Chariot  Busch Gardens Williamsburg   \n",
      "\n",
      "            Location Supplier  Year Built  Points  Year of Rank Material  \n",
      "0     Sandusky, Ohio  Intamin        2000    1204          2013    Steel  \n",
      "1      Agawam, Mass.  Intamin        2000    1011          2013    Steel  \n",
      "2  Hassloch, Germany  Intamin        2001     598          2013    Steel  \n",
      "3      Jackson, N.J.      B&M        2001     596          2013    Steel  \n",
      "4  Williamsburg, Va.      B&M        1999     542          2013    Steel  \n"
     ]
    },
    {
     "data": {
      "text/plain": [
       "array(['Apollo’s Chariot', 'Bizarro', 'Diamondback', 'Expedition GeForce',\n",
       "       'Fury 325', 'Iron Rattler', 'Millennium Force', 'Nitro',\n",
       "       'Steel Vengeance', 'Superman Ride of Steel'], dtype=object)"
      ]
     },
     "execution_count": 28,
     "metadata": {},
     "output_type": "execute_result"
    }
   ],
   "source": [
    "dataset2_obs1 = dataset2_obs[(dataset2_obs['Rank'] <= 5)].reset_index()\n",
    "print(dataset2_obs1.head())\n",
    "dataset2_obs1.sort_values(by=[\"Name\"]).Name.nunique()\n",
    "dataset2_obs1.sort_values(by=[\"Name\"]).Name.unique()"
   ]
  },
  {
   "cell_type": "code",
   "execution_count": 29,
   "id": "70eb9573",
   "metadata": {},
   "outputs": [
    {
     "name": "stdout",
     "output_type": "stream",
     "text": [
      "Name  Year of Rank  Apollo’s Chariot  Bizarro  Diamondback  \\\n",
      "0             2013               5.0      2.0          NaN   \n",
      "1             2014               NaN      2.0          4.0   \n",
      "2             2015               NaN      2.0          NaN   \n",
      "3             2016               NaN      NaN          NaN   \n",
      "4             2017               NaN      NaN          NaN   \n",
      "5             2018               NaN      NaN          NaN   \n",
      "\n",
      "Name  Expedition GeForce  Fury 325  Iron Rattler  Millennium Force  Nitro  \\\n",
      "0                    3.0       NaN           NaN               1.0    4.0   \n",
      "1                    3.0       NaN           NaN               1.0    5.0   \n",
      "2                    3.0       4.0           NaN               1.0    5.0   \n",
      "3                    4.0       1.0           NaN               2.0    5.0   \n",
      "4                    5.0       1.0           4.0               2.0    NaN   \n",
      "5                    4.0       1.0           NaN               2.0    NaN   \n",
      "\n",
      "Name  Steel Vengeance  Superman Ride of Steel  \n",
      "0                 NaN                     NaN  \n",
      "1                 NaN                     NaN  \n",
      "2                 NaN                     NaN  \n",
      "3                 NaN                     3.0  \n",
      "4                 NaN                     3.0  \n",
      "5                 3.0                     5.0  \n"
     ]
    }
   ],
   "source": [
    "dataset2_obs1_pivot = dataset2_obs1.pivot(columns = 'Name', index = 'Year of Rank', values= 'Rank').reset_index()\n",
    "print(dataset2_obs1_pivot)"
   ]
  },
  {
   "cell_type": "markdown",
   "id": "c0e896e0",
   "metadata": {},
   "source": [
    "The output shows the presence of Nan values of some steel roller coasters ( with a rank of 5 or lower) in the range of period under consideration (2013-2018). In detail, five of them (Apollo’s Chariot,Diamondback ,Iron Rattler, Steel Vengeance) have only a value of rank for a specific year. \n",
    "Therefore, it has been used the same assumption used in the wood roller coaster analysis, dropping out 5 names steel roller coaster with only an observation from the plot in the time period under consideration. \n",
    " With concern the others (Bizarro , Expedition GeForce, Fury 325, Millennium Force, Nitro, Superman Ride of Steel), only two (Expedition GeForce and Millennium Force ) seem to cover all the range of period into consideration."
   ]
  },
  {
   "cell_type": "code",
   "execution_count": 30,
   "id": "14a6a837",
   "metadata": {},
   "outputs": [
    {
     "name": "stdout",
     "output_type": "stream",
     "text": [
      "   index  Rank                Name                       Park  \\\n",
      "0      0     1    Millennium Force                Cedar Point   \n",
      "1      1     2             Bizarro      Six Flags New England   \n",
      "2      2     3  Expedition GeForce               Holiday Park   \n",
      "3      3     4               Nitro  Six Flags Great Adventure   \n",
      "5     10     1    Millennium Force                Cedar Point   \n",
      "\n",
      "            Location Supplier  Year Built  Points  Year of Rank Material  \n",
      "0     Sandusky, Ohio  Intamin        2000    1204          2013    Steel  \n",
      "1      Agawam, Mass.  Intamin        2000    1011          2013    Steel  \n",
      "2  Hassloch, Germany  Intamin        2001     598          2013    Steel  \n",
      "3      Jackson, N.J.      B&M        2001     596          2013    Steel  \n",
      "5     Sandusky, Ohio  Intamin        2000    1139          2014    Steel  \n"
     ]
    },
    {
     "data": {
      "text/plain": [
       "array(['Bizarro', 'Expedition GeForce', 'Fury 325', 'Millennium Force',\n",
       "       'Nitro', 'Superman Ride of Steel'], dtype=object)"
      ]
     },
     "execution_count": 30,
     "metadata": {},
     "output_type": "execute_result"
    }
   ],
   "source": [
    "#drop out name of steel roller coaster with only one observation\n",
    "\n",
    "dataset2_obs2r = dataset2_obs1[dataset2_obs1.Name.isin(['Bizarro', 'Expedition GeForce', 'Fury 325', 'Millennium Force', 'Superman Ride of Steel', 'Nitro'])]\n",
    "print(dataset2_obs2r.head())\n",
    "dataset2_obs2r.sort_values(by=[\"Name\"]).Name.nunique()\n",
    "dataset2_obs2r.sort_values(by=[\"Name\"]).Name.unique()"
   ]
  },
  {
   "cell_type": "code",
   "execution_count": 31,
   "id": "7ec9a13a",
   "metadata": {},
   "outputs": [
    {
     "name": "stdout",
     "output_type": "stream",
     "text": [
      "Name  Year of Rank  Bizarro  Expedition GeForce  Fury 325  Millennium Force  \\\n",
      "0             2013      2.0                 3.0       NaN               1.0   \n",
      "1             2014      2.0                 3.0       NaN               1.0   \n",
      "2             2015      2.0                 3.0       4.0               1.0   \n",
      "3             2016      NaN                 4.0       1.0               2.0   \n",
      "4             2017      NaN                 5.0       1.0               2.0   \n",
      "5             2018      NaN                 4.0       1.0               2.0   \n",
      "\n",
      "Name  Nitro  Superman Ride of Steel  \n",
      "0       4.0                     NaN  \n",
      "1       5.0                     NaN  \n",
      "2       5.0                     NaN  \n",
      "3       5.0                     3.0  \n",
      "4       NaN                     3.0  \n",
      "5       NaN                     5.0  \n"
     ]
    }
   ],
   "source": [
    "dataset2_obs1rr_pivot = dataset2_obs2r.pivot(columns = 'Name', index = 'Year of Rank', values= 'Rank').reset_index()\n",
    "print(dataset2_obs1rr_pivot)"
   ]
  },
  {
   "cell_type": "code",
   "execution_count": 32,
   "id": "aa0f142e",
   "metadata": {},
   "outputs": [
    {
     "data": {
      "image/png": "[encoded data removed]",
      "text/plain": [
       "<Figure size 720x576 with 1 Axes>"
      ]
     },
     "metadata": {
      "needs_background": "light"
     },
     "output_type": "display_data"
    }
   ],
   "source": [
    "#Plot (step by step) of top n rankings over time with inversion axis\n",
    "\n",
    "Bizarro_year = [2.0, 2.0, 2.0]\n",
    "year1 = [2013, 2014, 2015]\n",
    "\n",
    "Expedition_year = [3.0, 3.0, 3.0, 4.0, 5.0, 4.0]\n",
    "Millenium_year = [1.0, 1.0, 1.0, 2.0, 2.0, 2.0]\n",
    "year = [2013, 2014, 2015, 2016, 2017, 2018]\n",
    "\n",
    "Fury_year = [4.0, 1.0, 1.0, 1.0]\n",
    "year3 = [2015, 2016, 2017, 2018]\n",
    "\n",
    "Nitro_year = [4.0, 5.0, 5.0, 5.0]\n",
    "year4 = [2013, 2014, 2015, 2016]\n",
    "               \n",
    "Superman_year = [3.0, 3.0, 5.0]\n",
    "year5 = [2016, 2017, 2018]\n",
    "\n",
    "plt.figure(figsize=(10,8))\n",
    "plt.plot(year1, Bizarro_year, color = 'pink', marker = 's')\n",
    "plt.plot(year, Expedition_year, color='grey', marker = 's')\n",
    "plt.plot(year, Millenium_year, color = 'black', marker = 's')\n",
    "plt.plot(year3, Fury_year, color = 'red', marker = 's')\n",
    "plt.plot(year4, Nitro_year, color = 'yellow', marker = 's')\n",
    "plt.plot(year5, Superman_year, color = 'blue', marker = 's')\n",
    "\n",
    "ax = plt.subplot()\n",
    "ax.invert_yaxis() #calling .invert_yaxis() on the axes of the plot to better represent increases and decreases in rank\n",
    "\n",
    "#Enclose the legend to diffentiate the three plots \n",
    "legend_labels = ['Bizarro', 'Expedition GeForce', 'Millennium Force', 'Fury 325', 'Nitro', 'Superman Ride of Steel']\n",
    "plt.legend(legend_labels, loc=0)\n",
    "\n",
    "plt.xlabel('Year of Rank') #Label the x_axis \n",
    "plt.ylabel('Rank')          #Label the y_axis \n",
    "\n",
    "plt.title('Steel sollers coasters at the first 5 places over the years') # Enclose title to the  graph\n",
    "plt.savefig('Fig6.png')\n",
    "plt.show()"
   ]
  },
  {
   "cell_type": "markdown",
   "id": "b655deb4",
   "metadata": {},
   "source": [
    "The plot does show that only two steel roller coasters (Expedition GeForce and Millennium Force ) seem to cover all the range of period into consideration (2013-2018), meanwhile the others steel roller coasters (Bizarro , Fury 325, Nitro, Superman Ride of Steel) do not cover all the time period tsaken into consideration. \n",
    "Expedition |Ge froce does have the higher ranking (3) compared to Millemium Force from 2013 till 2015, followed to a increase of ranking from 2015 till 2017 and further decrease of ranking in 2016. On the other side, Millenium also increase rank from 2015 till 2016 and then get rank constant to 2 till 2018. With regard the trends of the other roller coasters, the lowest rank (1) does come from Fury 325 from 2016 till 2018, followed by Bizarro from 2013 till 2015 (ranking 2). Superman neverless a rank a constant rank fof 3 from 2016 till 2017, does show an increase of rank to 5 till 2018. "
   ]
  },
  {
   "cell_type": "markdown",
   "id": "652324a4",
   "metadata": {},
   "source": [
    "Inspection into the actual statistics of roller coasters themselves through data on all roller coasters documented by Captain Coaster, a popular site for recording roller coaster information. These data sre stored in roller_coasters.csv."
   ]
  },
  {
   "cell_type": "code",
   "execution_count": 33,
   "id": "04718eed",
   "metadata": {},
   "outputs": [],
   "source": [
    "# load roller coaster data from the csv into a DataFrame \n",
    "dataset_rc = pd.read_csv(\"roller_coasters.csv\")\n",
    "dataset_rct = pd.DataFrame(dataset_rc)"
   ]
  },
  {
   "cell_type": "markdown",
   "id": "1e1b0ef6",
   "metadata": {},
   "source": [
    "Before to perform the data visualisation, inspection of the dataframe have been performed in order to get a view of the descriptive statistics (such as view of their enclosed variables, their size and shape etc.) and further clean up of mistakes due to wrong spelling in the variables."
   ]
  },
  {
   "cell_type": "code",
   "execution_count": 34,
   "id": "a4271d31",
   "metadata": {},
   "outputs": [
    {
     "name": "stdout",
     "output_type": "stream",
     "text": [
      "                     name material_type seating_type  speed  height  length  \\\n",
      "0                Goudurix         Steel     Sit Down   75.0    37.0   950.0   \n",
      "1           Dream catcher         Steel    Suspended   45.0    25.0   600.0   \n",
      "2              Alucinakis         Steel     Sit Down   30.0     8.0   250.0   \n",
      "3                Anaconda        Wooden     Sit Down   85.0    35.0  1200.0   \n",
      "4                  Azteka         Steel     Sit Down   55.0    17.0   500.0   \n",
      "5             Bat Coaster         Steel     Inverted   70.0    20.0   400.0   \n",
      "6  Batman : Arkham Asylum         Steel     Inverted   80.0    32.0   823.0   \n",
      "7    Big Thunder Mountain         Steel     Sit Down   60.0    22.0  1500.0   \n",
      "8               EqWalizer         Steel     Sit Down   76.0    36.0   285.0   \n",
      "9           Calamity Mine         Steel     Sit Down   48.0    14.0   785.0   \n",
      "\n",
      "   num_inversions     manufacturer                  park            status  \n",
      "0             7.0           Vekoma          Parc Asterix  status.operating  \n",
      "1             0.0           Vekoma         Bobbejaanland  status.operating  \n",
      "2             0.0         Zamperla          Terra Mítica  status.operating  \n",
      "3             0.0  William J. Cobb        Walygator Parc  status.operating  \n",
      "4             0.0           Soquet                Le Pal  status.operating  \n",
      "5             2.0          Pinfari             Nigloland  status.relocated  \n",
      "6             5.0              B&M  Parque Warner Madrid  status.operating  \n",
      "7             0.0           Vekoma       Disneyland Park  status.operating  \n",
      "8             3.0           Vekoma    Walibi Rhône Alpes  status.operating  \n",
      "9             0.0           Vekoma        Walibi Belgium  status.operating  \n",
      "['name' 'material_type' 'seating_type' 'speed' 'height' 'length'\n",
      " 'num_inversions' 'manufacturer' 'park' 'status']\n",
      "<class 'pandas.core.frame.DataFrame'>\n",
      "RangeIndex: 2802 entries, 0 to 2801\n",
      "Data columns (total 10 columns):\n",
      " #   Column          Non-Null Count  Dtype  \n",
      "---  ------          --------------  -----  \n",
      " 0   name            2799 non-null   object \n",
      " 1   material_type   2802 non-null   object \n",
      " 2   seating_type    2802 non-null   object \n",
      " 3   speed           1478 non-null   float64\n",
      " 4   height          1667 non-null   float64\n",
      " 5   length          1675 non-null   float64\n",
      " 6   num_inversions  2405 non-null   float64\n",
      " 7   manufacturer    2802 non-null   object \n",
      " 8   park            2802 non-null   object \n",
      " 9   status          2802 non-null   object \n",
      "dtypes: float64(4), object(6)\n",
      "memory usage: 219.0+ KB\n",
      "28020\n",
      "(2802, 10)\n"
     ]
    }
   ],
   "source": [
    "#dataset roller coasters\n",
    "print(dataset_rct.head(10))\n",
    "print(dataset_rct.columns.values) #View  of the columns (varialbes) of the dataset1 \n",
    "dataset_rct.info()     #concise summary of the dataframe like the index dtype and columns, non-null values and memory usage \n",
    "dataset_rct.describe() #Simple statistics of the numnerical variables\n",
    "size = dataset_rct.size # dataframe.size\n",
    "print(size)\n",
    "shape =dataset_rct.shape  # dataframe.shape\n",
    "print(shape)"
   ]
  },
  {
   "cell_type": "markdown",
   "id": "9d68302f",
   "metadata": {},
   "source": [
    "The output does show that the load roller coaster dataframe csv file does contain five categorical variables (name, material type, seating time, manufacturer, park and status) and four numeric variables (height, speed, length and number of inversions of the roller coasters). Besides, the size of this dataframe (28020) is equivalent to rows x columns (2802 x 10).  "
   ]
  },
  {
   "cell_type": "markdown",
   "id": "4e97be18",
   "metadata": {},
   "source": [
    "To be consistent with the name of the variables enclosed in the wooden and steel ranking dataframes, the variables of the roller coaster dataframe has been renamed. "
   ]
  },
  {
   "cell_type": "code",
   "execution_count": 35,
   "id": "0f762bf5",
   "metadata": {},
   "outputs": [
    {
     "name": "stdout",
     "output_type": "stream",
     "text": [
      "            Name Material Type_seating  Speed  Height  Length  Num_inversion  \\\n",
      "0       Goudurix    Steel     Sit Down   75.0    37.0   950.0            7.0   \n",
      "1  Dream catcher    Steel    Suspended   45.0    25.0   600.0            0.0   \n",
      "2     Alucinakis    Steel     Sit Down   30.0     8.0   250.0            0.0   \n",
      "3       Anaconda   Wooden     Sit Down   85.0    35.0  1200.0            0.0   \n",
      "4         Azteka    Steel     Sit Down   55.0    17.0   500.0            0.0   \n",
      "\n",
      "      Manufacturer            Park            Status  \n",
      "0           Vekoma    Parc Asterix  status.operating  \n",
      "1           Vekoma   Bobbejaanland  status.operating  \n",
      "2         Zamperla    Terra Mítica  status.operating  \n",
      "3  William J. Cobb  Walygator Parc  status.operating  \n",
      "4           Soquet          Le Pal  status.operating  \n"
     ]
    }
   ],
   "source": [
    "#  rename variables in the roller coaster DataFrame \n",
    "dataset_rct.rename(columns={'name': 'Name', 'material_type': 'Material', 'seating_type': 'Type_seating', 'speed':'Speed', \n",
    "                                         'height' : 'Height', 'length':  'Length',  'num_inversions':'Num_inversion','manufacturer': 'Manufacturer',\n",
    "                                          'park' : 'Park', 'status': 'Status'\n",
    "                                         }, inplace=True)\n",
    "print(dataset_rct.head())"
   ]
  },
  {
   "cell_type": "code",
   "execution_count": 36,
   "id": "c46c40ff",
   "metadata": {},
   "outputs": [
    {
     "name": "stdout",
     "output_type": "stream",
     "text": [
      "Name                3\n",
      "Material            0\n",
      "Type_seating        0\n",
      "Speed            1324\n",
      "Height           1135\n",
      "Length           1127\n",
      "Num_inversion     397\n",
      "Manufacturer        0\n",
      "Park                0\n",
      "Status              0\n",
      "dtype: int64\n"
     ]
    }
   ],
   "source": [
    "# Count total NaN at each column in a DataFrame\n",
    "print(dataset_rct.isnull().sum()) #Nan observations\n",
    "\n",
    "# Remove missing data \n",
    "dataset_rct.dropna(inplace=True)  "
   ]
  },
  {
   "cell_type": "code",
   "execution_count": 37,
   "id": "b8f042e1",
   "metadata": {},
   "outputs": [
    {
     "name": "stdout",
     "output_type": "stream",
     "text": [
      "['Name' 'Material' 'Type_seating' 'Speed' 'Height' 'Length'\n",
      " 'Num_inversion' 'Manufacturer' 'Park' 'Status']\n",
      "<class 'pandas.core.frame.DataFrame'>\n",
      "Int64Index: 1279 entries, 0 to 2799\n",
      "Data columns (total 10 columns):\n",
      " #   Column         Non-Null Count  Dtype  \n",
      "---  ------         --------------  -----  \n",
      " 0   Name           1279 non-null   object \n",
      " 1   Material       1279 non-null   object \n",
      " 2   Type_seating   1279 non-null   object \n",
      " 3   Speed          1279 non-null   float64\n",
      " 4   Height         1279 non-null   float64\n",
      " 5   Length         1279 non-null   float64\n",
      " 6   Num_inversion  1279 non-null   float64\n",
      " 7   Manufacturer   1279 non-null   object \n",
      " 8   Park           1279 non-null   object \n",
      " 9   Status         1279 non-null   object \n",
      "dtypes: float64(4), object(6)\n",
      "memory usage: 109.9+ KB\n",
      "12790\n",
      "(1279, 10)\n"
     ]
    }
   ],
   "source": [
    "print(dataset_rct.columns.values) #View  of the columns (variables) of the dataset\n",
    "dataset_rct.info()     #concise summary of the dataframe like the index dtype and columns, non-null values and memory usage \n",
    "dataset_rct.describe() #Simple statistics of the numnerical variables\n",
    "size = dataset_rct.size # dataframe.size\n",
    "print(size)\n",
    "shape =dataset_rct.shape  # dataframe.shape\n",
    "print(shape)"
   ]
  },
  {
   "cell_type": "markdown",
   "id": "28546025",
   "metadata": {},
   "source": [
    "Each of the five categorical variables has been inspected."
   ]
  },
  {
   "cell_type": "code",
   "execution_count": 38,
   "id": "6e2b105c",
   "metadata": {},
   "outputs": [
    {
     "name": "stdout",
     "output_type": "stream",
     "text": [
      "['10 Inversion Roller Coaster' 'Abismo' 'Abyss' ... 'Zoomerang'\n",
      " 'Zydeco Scream' 'iSpeed']\n",
      "1057\n",
      "['Hybrid' 'Steel' 'Wooden' 'na']\n",
      "4\n",
      "['4th Dimension' 'Alpine' 'Bobsleigh' 'Floorless' 'Flying' 'Inverted'\n",
      " 'Motorbike' 'Pipeline' 'Sit Down' 'Spinning' 'Stand Up' 'Suspended'\n",
      " 'Water Coaster' 'Wing']\n",
      "14\n",
      "['ACE Coaster Classic' 'ART Engineering' 'Abc rides' 'Arrow' 'B&M'\n",
      " 'Beijing Jiuhua' 'Beijing Shibaolai' 'Big Country Mitioneering'\n",
      " 'Bradley & Kaye' 'CCI' 'Cavazza Diego' 'Cedeal ride' 'Chance Rides'\n",
      " 'Charles Paige' 'Charlie Dinn' 'Coaster Works' 'D.P.V. Rides'\n",
      " 'Dinn Corp.' 'Don Rosser & Bill Cobb' 'Doppelmayr' 'Dynamic Attractions'\n",
      " 'EOS rides' 'Fabbri' 'GCI' 'Gerstlauer' 'Giovanola' 'Golden Horse'\n",
      " 'Gravity Group' 'Hensel Phelps Construction Co.' 'Hoei Sangyo'\n",
      " 'Holzbau Cordes' 'I.E. Park' 'Intamin' 'International Amusement Devices'\n",
      " 'John Miller' 'Kings Island' 'Knoebels' 'L&T Systems'\n",
      " 'L.A. Thompson Scenic Railway' 'Mack' 'Martin & Vleminckx' 'Maurer'\n",
      " 'Meisho Amusement Machines' 'Miler Coaster' 'Morgan'\n",
      " 'National Amusement Devices' 'Pax' 'Philadelphia Toboggan Coaster'\n",
      " 'Pinfari' 'Premier Rides' 'Preston & Barbieri' 'RCCA' 'RES' 'RMC'\n",
      " 'Reverchon' 'S&MC' 'S&S' 'S.D.C.' 'SBF' 'Sameco' 'Sansei Yusoki'\n",
      " 'Sartori' 'Schwarzkopf' 'Senyo Kogyo' 'SetPoint' 'Soquet' 'Togo'\n",
      " 'Top Fun' 'Vekoma' 'Wiegand' 'William J. Cobb' 'Zamperla' 'Zierer' 'na']\n",
      "74\n",
      "['20th Century Fox World' 'Adlabs Imagica' 'Adventure City (Anaheim)'\n",
      " 'Adventure Island' 'Adventure Park Geelong' 'Adventure World'\n",
      " 'Adventuredome' 'Adventureland' 'Alabama Adventure' 'Alton Towers'\n",
      " 'Amigoland' 'Amsterdam Dungeon' 'Amusementspark Tivoli' 'Antibesland'\n",
      " 'Aquashow' 'Atallah Happy Land Park' 'Attractiepark Rotterdam'\n",
      " 'Attractiepark Slagharen' 'Avonturenpark Hellendoorn' 'Bagatelle'\n",
      " 'Bakken' 'Bali Safari and Marine Park' 'Bayern Park' 'Beech Bend'\n",
      " 'Beijing Shijingshan Amusement Park' 'Belantis' 'Bellewaerde'\n",
      " 'Belmont Park' 'Berjaya Times Square Theme Park' 'Beto Carrero World'\n",
      " 'Blackgang Chine' 'Blackpool Pleasure Beach' \"Blue Bayou Dixie Landin'\"\n",
      " 'Bobbejaanland' 'Bonbon-Land' 'Boomers!' \"Botton's Pleasure Beach\"\n",
      " 'Bowcraft Playland' 'Brighton pier' \"Buffalo Bill's Resort & Casino\"\n",
      " 'Busch Gardens Tampa' 'Busch Gardens Williamsburg'\n",
      " \"California's Great America \" 'Camelot Theme Park' \"Canada's Wonderland\"\n",
      " 'Canobie Lake Park' 'Carowinds' 'Casino Pier' 'Cavallino Matto'\n",
      " 'Cedar Point' 'Celebration City' 'Chessington World of Adventures'\n",
      " 'Chimelong Ocean Kingdom' 'Chimelong Paradise' 'China Dinosaurs Park'\n",
      " 'Churpfalzpark' 'Clementon Park' \"Cliff's Amusement Park\" 'Cobac Parc'\n",
      " \"Codona's Amusement Park\" 'Colourful Yunnan Happy World' 'Conny-Land'\n",
      " 'Crystal Beach' 'Darien Lake' 'Dennlys Parc' 'Didiland'\n",
      " 'DippieDoe Familiepark' 'Discoveryland' 'Disney California Adventure'\n",
      " 'Disney Hollywood Studios' \"Disney's Animal Kingdom\"\n",
      " \"Disney's Magic Kingdom\" 'Disneyland' 'Disneyland Park'\n",
      " 'Djurs Sommerland' 'Dollywood' 'Dorney Park' 'Dragon Park Ha Long'\n",
      " 'Drayton Manor' 'Dream City' 'Dreamland' 'Dreamworld'\n",
      " 'Drievliet Family Park' 'Duinrell' 'E-DA Theme Park' 'Efteling'\n",
      " 'Eifelpark' 'Elitch Gardens' 'Energylandia' 'Entertainment City'\n",
      " 'Europa Park' 'Europark' 'Europark Idroscalo' 'Everland' 'Expoland'\n",
      " 'Fami P.A.R.C' 'Family Kingdom Amusement Park' 'Familypark'\n",
      " 'Fantasiana (Erlebnispark Strasswalchen)' 'Fantasy Island Ingoldmells'\n",
      " 'Fantasy Island New York' 'Fantawild Adventure Zhengzhou'\n",
      " 'Fantawild Dreamland Wuhu' 'Fantawild Dreamland Zhengzhou'\n",
      " 'Fantawild Dreamland Zhuzhou' 'Farup Sommerland'\n",
      " 'Ferienzentrum Schloss Dankern' 'Ferrari Land' 'Ferrari World'\n",
      " 'Fiabilandia' 'Flamingo Land Theme Park and Zoo' 'Floraland' 'Foire'\n",
      " 'Formosan Aboriginal Culture Village' 'Fort Fun Abenteuerland'\n",
      " 'Fraispertuis City' 'Freestyle Music Park' 'Freizeipark Kirchhorst'\n",
      " 'Freizeit-Land Geiselwind' 'Freizeitpark Familienland'\n",
      " 'Freizeitpark Lochmühle' 'Freizeitpark Plohn' 'Frontier City'\n",
      " 'Fuji-Q Highland' 'Fun Spot America' 'Fun Spot Kissimmee' 'Fun Works'\n",
      " 'Funtown Pier' 'Funtown Splashtown USA' 'Galaxyland Amusement Park'\n",
      " 'Galveston Island Historic Pleasure Pier' 'Gardaland' 'Geauga Lake'\n",
      " 'Genting Theme Park' 'Geroland' 'Gilroy Gardens Family Theme Park'\n",
      " 'Global Village' 'Gold Reef City' 'Gorky Park' 'Great Escape'\n",
      " 'Great Xingdong Tourist World' 'Greenland' 'Gröna Lund' 'Gulliverlandia'\n",
      " 'Gyeongju World' 'Gyeongnam Mason Robotland' 'Haichang Ocean Park'\n",
      " 'Hansa Park' 'Happy Valley Beijing' 'Happy Valley Chengdu'\n",
      " 'Happy Valley Chongqing' 'Happy Valley Shanghai' 'Happy Valley Shenzhen'\n",
      " 'Happy Valley Wuhan' 'Hefei Wanda Theme Park' 'Heide Park' 'Hersheypark'\n",
      " 'Himeji Central Park' 'Hirakata Park' 'Holiday Park' 'Holiday World'\n",
      " 'Holly Park' 'Hopi Hari' 'Hot Go Dreamworld' 'Hot Go Park'\n",
      " 'Hunderfossen Familiepark' 'IMG Worlds of Adventure' 'Indiana Beach'\n",
      " 'Isla Magica' 'Isla San Marcos Parque Temático' 'Ita Center Park'\n",
      " 'Janfusun Fancyworld' 'Japan Monkey Park' 'Jin Jiang Action Park'\n",
      " 'Julianatoren' 'Karls Erlebnis-Dorf Elstal' 'Karolinelund'\n",
      " 'Kemah Boardwalk' 'Kennywood' 'Kentucky Kingdom' 'Kijima Amusement Park'\n",
      " 'Kingoland' 'Kings Dominion' 'Kings Island'\n",
      " 'Klotten (Wild- und Freizeitpark)' 'Knight Valley' 'Knoebels'\n",
      " \"Knott's Berry Farm\" 'Kobe Portopialand' 'Kolmården' 'La Coccinelle'\n",
      " 'La Feria Chapultepec Magico' 'La Mer de Sable' 'La Ronde' 'Lagoon'\n",
      " 'Lagunasia' 'Lake Compounce' 'Lake Winnie' 'Le Pal' 'Legendia'\n",
      " 'Legoland Billund' 'Legoland California' 'Legoland Deutschland'\n",
      " 'Legoland Florida' 'Legoland Windsor' 'Leofoo Village Theme Park'\n",
      " 'Lewa Adventure' 'Lightwater Valley' 'Lihpao Land' 'Linnanmäki'\n",
      " 'Liseberg' 'Loca Joy Holiday Theme Park' 'Lollihop' 'Loro Parque'\n",
      " 'Lotte World' 'Loudoun Castle' 'Luna Park' 'Luna Park La Palmyre'\n",
      " 'Luna Park Melbourne' \"Lunapark Cap d'Agde\" 'Luneur'\n",
      " \"M&D Scotland's Theme Park\" 'Magic Park Land'\n",
      " 'Magic Springs & Crystal Falls' 'Magic World' 'Majaland Kownaty'\n",
      " 'Marineland Theme Park' \"Merimbula's Magic Mountain\"\n",
      " \"Michigan's Adventure\" 'Mirabilandia' 'Mirabilandia Olinda'\n",
      " 'Mirabilandia Paulista' 'Miragica' 'Mondo Verde' \"Morey's Piers\"\n",
      " 'Motiongate' 'Movie Park Germany' 'Movieland Park'\n",
      " 'Mt. Olympus Water & Theme Park' 'Mundo Petapa' 'Mysterious Island'\n",
      " 'Märchenwald im Isartal' 'Nagashima Spa Land' 'Nantong Adventure Land'\n",
      " 'Nara Dreamland' 'Nascar Café' 'Nasu Highland Park' 'New Reoma World'\n",
      " 'New York, New York Hotel & Casino' 'Nickelodeon Universe'\n",
      " 'Nickelodeon Universe Theme Park' 'Nigloland' 'Nürburgring' 'OK Corral'\n",
      " 'OWA' 'Oaks Amusement Park' 'Oakwood' 'Ocean Park'\n",
      " 'Oriental Heritage Jinan' 'Oriental Heritage Ningbo'\n",
      " 'Oriental Heritage Wuhu' 'Pacific Park' 'Papea Parc' 'Parc Asterix'\n",
      " 'Parc Saint Paul' 'Parc Spirou' 'Parc de la Récréation'\n",
      " 'Parc de la Vallée' 'Parc des Combes' 'Parc des Naudières'\n",
      " 'Parc du Bocasse' 'Parko Paliatso' 'Parque Espana-Shima Spain Village'\n",
      " 'Parque Nacional Del Café' 'Parque Warner Madrid'\n",
      " 'Parque de Atracciones de Madrid' 'Parque de la Ciudad'\n",
      " 'Parque de la Costa' 'Paultons Park' 'Phantasialand'\n",
      " \"Phoenix Mountain's Happy Park\" 'Playcenter São Paulo' 'Playland'\n",
      " \"Playland's Castaway Cove\" 'Pleasure Island' 'Pleasurewood Hills'\n",
      " 'Plopsa Coo' 'Plopsa Indoor Hasselt' 'Plopsaland' 'Port Aventura'\n",
      " 'Potts Park' 'PowerPark' 'Quancheng Euro Park' 'Quassy Amusement Park'\n",
      " 'Rainbow MagicLand' 'Ratanga Junction' 'Romon U-Park' 'Rusutsu Resort'\n",
      " 'Salitre Magico' 'Santa Cruz Beach Boardwalk' 'Scenic World'\n",
      " 'Schwaben Park' 'Sea World' 'SeaWorld Orlando' 'SeaWorld San Antonio'\n",
      " 'SeaWorld San Diego' 'Seoul Land' 'Serengeti Park' 'Shanghaï Disneyland'\n",
      " 'Siam Park City' 'Silk Road Culture Expo Park' 'Silver Dollar City'\n",
      " 'Silverwood Theme Park' 'Sindibad' 'Six Flags America'\n",
      " 'Six Flags AstroWorld' 'Six Flags Discovery Kingdom'\n",
      " 'Six Flags Fiesta Texas' 'Six Flags Great Adventure'\n",
      " 'Six Flags Great America' 'Six Flags Magic Mountain' 'Six Flags Mexico'\n",
      " 'Six Flags New England' 'Six Flags New Orleans' 'Six Flags Over Georgia'\n",
      " 'Six Flags St Louis' 'Six flags Over Texas' 'Skara Sommarland'\n",
      " 'Skyline Park' 'Sochi-Park' 'Sommerland Syd' 'Southport Pleasureland'\n",
      " 'Space World' 'Steel Pier' 'Story Land' 'Sun Park'\n",
      " 'Sun Tzu Cultural Park' 'Superland' 'Suzhou Giant Wheel Park'\n",
      " 'Särkänniemi Amusement Park' 'Tatzmania Löffingen' 'Tayto Park'\n",
      " 'Terra Encantada' 'Terra Mítica' 'The Land of Legends' 'Thorpe Park'\n",
      " 'Thrill Valley' 'Tibidabo' 'Tivoli Friheden' 'Tivoli Gardens'\n",
      " 'Tivoli World' 'Tobu Zoo Park' 'Tokushima Familyland' 'Tokyo DisneySea'\n",
      " 'Tokyo Disneyland' 'Tokyo Dome City' 'Tokyo Summerland' 'Toshimaen'\n",
      " 'Toverland' 'Trans Studio Indoor Theme Park ' \"Trimper's Rides\"\n",
      " 'Tripsdrill' 'TusenFryd' 'Universal Studios Florida'\n",
      " 'Universal Studios Hollywood' 'Universal Studios Islands of Adventure'\n",
      " 'Universal Studios Japan' 'Upper Clements Theme Park' 'Valleyfair'\n",
      " 'ViaSea' 'Victory Kingdom' 'Vidámpark' 'Vinpearl Land Nha Trang'\n",
      " 'Visionland' 'Waldameer' 'Walibi Belgium' 'Walibi Holland'\n",
      " 'Walibi Rhône Alpes' 'Walibi Sud Ouest' 'Walt Disney Studios'\n",
      " 'Walygator Parc' 'Warner Bros. Movie World'\n",
      " 'Warner Bros. World Abu Dhabi' 'Waterville' 'West Midlands Safari Park'\n",
      " \"Wet'n'Wild Water World\" 'Wiener Prater' 'Wild Adventures'\n",
      " 'Wild Waves Theme Park' 'Wild- und Freizeitpark'\n",
      " 'Wildlands Adventure Zoo Emmen' 'Wonder Island' 'Wonderland Eurasia'\n",
      " 'Wonderland Sydney' 'World Joyland' 'Worlds of Fun' 'Wuxi Sunac Land'\n",
      " 'Xetulul' 'Xishuangbanna Theme Park' 'Yas Waterworld'\n",
      " 'Yokohama Cosmoworld' 'Yomiuriland' 'Zoo Safari Stukenbrock'\n",
      " 'Zoo de Granby' 'Zoomarine' 'Zoosafari Fasanolandia' 'Zygo park']\n",
      "407\n",
      "['status.announced' 'status.closed.definitely' 'status.closed.temporarily'\n",
      " 'status.construction' 'status.operating' 'status.relocated'\n",
      " 'status.retracked' 'status.unknown']\n",
      "8\n"
     ]
    }
   ],
   "source": [
    "#name variable \n",
    "print(dataset_rct.sort_values(by=['Name']).Name.unique())\n",
    "print(dataset_rct.sort_values(by=['Name']).Name.nunique())\n",
    "\n",
    "#material_type variable\n",
    "print(dataset_rct.sort_values(by=['Material']).Material.unique())\n",
    "print(dataset_rct.sort_values(by=['Material']).Material.nunique())\n",
    "\n",
    "#seating_type variable \n",
    "print(dataset_rct.sort_values(by=['Type_seating']).Type_seating.unique())\n",
    "print(dataset_rct.sort_values(by=['Type_seating']).Type_seating.nunique())\n",
    "\n",
    "#manufacturer variable \n",
    "print(dataset_rct.sort_values(by=['Manufacturer']).Manufacturer.unique())\n",
    "print(dataset_rct.sort_values(by=['Manufacturer']).Manufacturer.nunique())\n",
    "\n",
    "#park variable \n",
    "print(dataset_rct.sort_values(by=['Park']).Park.unique())\n",
    "print(dataset_rct.sort_values(by=['Park']).Park.nunique())\n",
    "\n",
    "#status variable \n",
    "print(dataset_rct.sort_values(by=['Status']).Status.unique())\n",
    "print(dataset_rct.sort_values(by=['Status']).Status.nunique())"
   ]
  },
  {
   "cell_type": "markdown",
   "id": "264d4b1d",
   "metadata": {},
   "source": [
    "Plot a histogram of any numeric column of the roller coaster DataFrame. To achieve this, the function should take a DataFrame and a column name for which a histogram should be constructed as arguments. Thus, the function is performed with the roller coaster DataFrame and one of the column names. Taking into consideration the numerical variables enclosed in the dataframe, five  histograms have been built up related respectively to the speed,  length, height and number of inversions."
   ]
  },
  {
   "cell_type": "code",
   "execution_count": 39,
   "id": "af169486",
   "metadata": {},
   "outputs": [
    {
     "name": "stdout",
     "output_type": "stream",
     "text": [
      "   Speed  Height  Length  Num_inversion\n",
      "0   75.0    37.0   950.0            7.0\n",
      "1   45.0    25.0   600.0            0.0\n",
      "2   30.0     8.0   250.0            0.0\n",
      "3   85.0    35.0  1200.0            0.0\n",
      "4   55.0    17.0   500.0            0.0\n"
     ]
    }
   ],
   "source": [
    "dataset_rct_p = dataset_rct[['Speed', 'Height', 'Length', 'Num_inversion']]\n",
    "print(dataset_rct_p.head())"
   ]
  },
  {
   "cell_type": "code",
   "execution_count": 40,
   "id": "4be93355",
   "metadata": {},
   "outputs": [
    {
     "data": {
      "image/png": "[encoded data removed]",
      "text/plain": [
       "<Figure size 720x576 with 1 Axes>"
      ]
     },
     "metadata": {
      "needs_background": "light"
     },
     "output_type": "display_data"
    },
    {
     "data": {
      "text/plain": [
       "<Figure size 432x288 with 0 Axes>"
      ]
     },
     "metadata": {},
     "output_type": "display_data"
    }
   ],
   "source": [
    "# Create histogram of roller coaster speed\n",
    "plt.figure(figsize=(10,8))\n",
    "sns.histplot(dataset_rct_p[\"Speed\"])\n",
    "plt.title('Histogram of (total) Speed Roller Coasters')\n",
    "plt.savefig('Fig7.png')\n",
    "plt.show()\n",
    "plt.clf()"
   ]
  },
  {
   "cell_type": "code",
   "execution_count": 41,
   "id": "04153a4b",
   "metadata": {},
   "outputs": [
    {
     "data": {
      "image/png": "[encoded data removed]",
      "text/plain": [
       "<Figure size 720x576 with 1 Axes>"
      ]
     },
     "metadata": {
      "needs_background": "light"
     },
     "output_type": "display_data"
    },
    {
     "data": {
      "text/plain": [
       "<Figure size 432x288 with 0 Axes>"
      ]
     },
     "metadata": {},
     "output_type": "display_data"
    }
   ],
   "source": [
    "# Create histogram of roller coaster length\n",
    "plt.figure(figsize=(10,8))\n",
    "sns.histplot(dataset_rct_p[\"Length\"])\n",
    "plt.title('Histogram of (total) Length Roller Coasters')\n",
    "plt.savefig('Fig8.png')\n",
    "plt.show()\n",
    "plt.clf()"
   ]
  },
  {
   "cell_type": "code",
   "execution_count": 42,
   "id": "900d066f",
   "metadata": {},
   "outputs": [
    {
     "data": {
      "image/png": "[encoded data removed]",
      "text/plain": [
       "<Figure size 720x576 with 1 Axes>"
      ]
     },
     "metadata": {
      "needs_background": "light"
     },
     "output_type": "display_data"
    },
    {
     "data": {
      "text/plain": [
       "<Figure size 432x288 with 0 Axes>"
      ]
     },
     "metadata": {},
     "output_type": "display_data"
    }
   ],
   "source": [
    "# Create a histogram of roller coaster height\n",
    "plt.figure(figsize=(10,8))\n",
    "sns.histplot(dataset_rct_p[\"Height\"])\n",
    "plt.title('Histogram of (total) Height of Roller Coasters')\n",
    "plt.savefig('Fig9.png')\n",
    "plt.show()\n",
    "plt.clf()"
   ]
  },
  {
   "cell_type": "code",
   "execution_count": 43,
   "id": "5cbdde28",
   "metadata": {},
   "outputs": [
    {
     "data": {
      "image/png": "[encoded data removed]",
      "text/plain": [
       "<Figure size 720x576 with 1 Axes>"
      ]
     },
     "metadata": {
      "needs_background": "light"
     },
     "output_type": "display_data"
    },
    {
     "data": {
      "text/plain": [
       "<Figure size 432x288 with 0 Axes>"
      ]
     },
     "metadata": {},
     "output_type": "display_data"
    }
   ],
   "source": [
    "# Create histogram of roller coaster number of inversions\n",
    "plt.figure(figsize=(10,8))\n",
    "sns.histplot(dataset_rct_p[\"Num_inversion\"])\n",
    "plt.title('Histogram of (total) Number of Inversions Roller Coasters')\n",
    "plt.savefig('Fig10.png')\n",
    "plt.show()\n",
    "plt.clf()"
   ]
  },
  {
   "cell_type": "markdown",
   "id": "564440b5",
   "metadata": {},
   "source": [
    "Plot a function that creates a bar chart showing the number of inversions for each roller coaster at an amusement park.To achieve this the function should take the roller coaster DataFrame and an amusement park name as arguments. Thus, the function will be characterised with the roller coaster DataFrame and amusement park name."
   ]
  },
  {
   "cell_type": "code",
   "execution_count": 44,
   "id": "aa870f43",
   "metadata": {},
   "outputs": [
    {
     "name": "stdout",
     "output_type": "stream",
     "text": [
      "            Name            Park Material  Num_inversion\n",
      "0       Goudurix    Parc Asterix    Steel            7.0\n",
      "1  Dream catcher   Bobbejaanland    Steel            0.0\n",
      "2     Alucinakis    Terra Mítica    Steel            0.0\n",
      "3       Anaconda  Walygator Parc   Wooden            0.0\n",
      "4         Azteka          Le Pal    Steel            0.0\n",
      "<class 'pandas.core.frame.DataFrame'>\n",
      "Int64Index: 1279 entries, 0 to 2799\n",
      "Data columns (total 4 columns):\n",
      " #   Column         Non-Null Count  Dtype  \n",
      "---  ------         --------------  -----  \n",
      " 0   Name           1279 non-null   object \n",
      " 1   Park           1279 non-null   object \n",
      " 2   Material       1279 non-null   object \n",
      " 3   Num_inversion  1279 non-null   float64\n",
      "dtypes: float64(1), object(3)\n",
      "memory usage: 50.0+ KB\n",
      "5116\n",
      "(1279, 4)\n"
     ]
    }
   ],
   "source": [
    "#Selection of the variables of interest for the further analysis \n",
    "dataset_rct_pk = dataset_rct[['Name', 'Park', 'Material', 'Num_inversion']]\n",
    "print(dataset_rct_pk.head())\n",
    "dataset_rct_pk.info()     #concise summary of the dataframe like the index dtype and columns, non-null values and memory usage \n",
    "dataset_rct_pk.describe() #Simple statistics of the numnerical variables\n",
    "size = dataset_rct_pk.size # dataframe.size\n",
    "print(size)\n",
    "shape =dataset_rct_pk.shape  # dataframe.shape\n",
    "print(shape)"
   ]
  },
  {
   "cell_type": "code",
   "execution_count": 45,
   "id": "4c83168f",
   "metadata": {},
   "outputs": [
    {
     "data": {
      "text/html": [
       "<div>\n",
       "<style scoped>\n",
       "    .dataframe tbody tr th:only-of-type {\n",
       "        vertical-align: middle;\n",
       "    }\n",
       "\n",
       "    .dataframe tbody tr th {\n",
       "        vertical-align: top;\n",
       "    }\n",
       "\n",
       "    .dataframe thead tr th {\n",
       "        text-align: left;\n",
       "    }\n",
       "\n",
       "    .dataframe thead tr:last-of-type th {\n",
       "        text-align: right;\n",
       "    }\n",
       "</style>\n",
       "<table border=\"1\" class=\"dataframe\">\n",
       "  <thead>\n",
       "    <tr>\n",
       "      <th></th>\n",
       "      <th colspan=\"8\" halign=\"left\">Num_inversion</th>\n",
       "    </tr>\n",
       "    <tr>\n",
       "      <th></th>\n",
       "      <th>count</th>\n",
       "      <th>mean</th>\n",
       "      <th>std</th>\n",
       "      <th>min</th>\n",
       "      <th>25%</th>\n",
       "      <th>50%</th>\n",
       "      <th>75%</th>\n",
       "      <th>max</th>\n",
       "    </tr>\n",
       "    <tr>\n",
       "      <th>Park</th>\n",
       "      <th></th>\n",
       "      <th></th>\n",
       "      <th></th>\n",
       "      <th></th>\n",
       "      <th></th>\n",
       "      <th></th>\n",
       "      <th></th>\n",
       "      <th></th>\n",
       "    </tr>\n",
       "  </thead>\n",
       "  <tbody>\n",
       "    <tr>\n",
       "      <th>20th Century Fox World</th>\n",
       "      <td>3.0</td>\n",
       "      <td>0.00</td>\n",
       "      <td>0.000000</td>\n",
       "      <td>0.0</td>\n",
       "      <td>0.00</td>\n",
       "      <td>0.0</td>\n",
       "      <td>0.00</td>\n",
       "      <td>0.0</td>\n",
       "    </tr>\n",
       "    <tr>\n",
       "      <th>Adlabs Imagica</th>\n",
       "      <td>2.0</td>\n",
       "      <td>3.50</td>\n",
       "      <td>2.121320</td>\n",
       "      <td>2.0</td>\n",
       "      <td>2.75</td>\n",
       "      <td>3.5</td>\n",
       "      <td>4.25</td>\n",
       "      <td>5.0</td>\n",
       "    </tr>\n",
       "    <tr>\n",
       "      <th>Adventure City (Anaheim)</th>\n",
       "      <td>1.0</td>\n",
       "      <td>0.00</td>\n",
       "      <td>NaN</td>\n",
       "      <td>0.0</td>\n",
       "      <td>0.00</td>\n",
       "      <td>0.0</td>\n",
       "      <td>0.00</td>\n",
       "      <td>0.0</td>\n",
       "    </tr>\n",
       "    <tr>\n",
       "      <th>Adventure Island</th>\n",
       "      <td>4.0</td>\n",
       "      <td>0.75</td>\n",
       "      <td>1.500000</td>\n",
       "      <td>0.0</td>\n",
       "      <td>0.00</td>\n",
       "      <td>0.0</td>\n",
       "      <td>0.75</td>\n",
       "      <td>3.0</td>\n",
       "    </tr>\n",
       "    <tr>\n",
       "      <th>Adventure Park Geelong</th>\n",
       "      <td>1.0</td>\n",
       "      <td>0.00</td>\n",
       "      <td>NaN</td>\n",
       "      <td>0.0</td>\n",
       "      <td>0.00</td>\n",
       "      <td>0.0</td>\n",
       "      <td>0.00</td>\n",
       "      <td>0.0</td>\n",
       "    </tr>\n",
       "    <tr>\n",
       "      <th>...</th>\n",
       "      <td>...</td>\n",
       "      <td>...</td>\n",
       "      <td>...</td>\n",
       "      <td>...</td>\n",
       "      <td>...</td>\n",
       "      <td>...</td>\n",
       "      <td>...</td>\n",
       "      <td>...</td>\n",
       "    </tr>\n",
       "    <tr>\n",
       "      <th>Zoo Safari Stukenbrock</th>\n",
       "      <td>2.0</td>\n",
       "      <td>1.00</td>\n",
       "      <td>1.414214</td>\n",
       "      <td>0.0</td>\n",
       "      <td>0.50</td>\n",
       "      <td>1.0</td>\n",
       "      <td>1.50</td>\n",
       "      <td>2.0</td>\n",
       "    </tr>\n",
       "    <tr>\n",
       "      <th>Zoo de Granby</th>\n",
       "      <td>1.0</td>\n",
       "      <td>0.00</td>\n",
       "      <td>NaN</td>\n",
       "      <td>0.0</td>\n",
       "      <td>0.00</td>\n",
       "      <td>0.0</td>\n",
       "      <td>0.00</td>\n",
       "      <td>0.0</td>\n",
       "    </tr>\n",
       "    <tr>\n",
       "      <th>Zoomarine</th>\n",
       "      <td>1.0</td>\n",
       "      <td>1.00</td>\n",
       "      <td>NaN</td>\n",
       "      <td>1.0</td>\n",
       "      <td>1.00</td>\n",
       "      <td>1.0</td>\n",
       "      <td>1.00</td>\n",
       "      <td>1.0</td>\n",
       "    </tr>\n",
       "    <tr>\n",
       "      <th>Zoosafari Fasanolandia</th>\n",
       "      <td>2.0</td>\n",
       "      <td>0.00</td>\n",
       "      <td>0.000000</td>\n",
       "      <td>0.0</td>\n",
       "      <td>0.00</td>\n",
       "      <td>0.0</td>\n",
       "      <td>0.00</td>\n",
       "      <td>0.0</td>\n",
       "    </tr>\n",
       "    <tr>\n",
       "      <th>Zygo park</th>\n",
       "      <td>2.0</td>\n",
       "      <td>1.50</td>\n",
       "      <td>2.121320</td>\n",
       "      <td>0.0</td>\n",
       "      <td>0.75</td>\n",
       "      <td>1.5</td>\n",
       "      <td>2.25</td>\n",
       "      <td>3.0</td>\n",
       "    </tr>\n",
       "  </tbody>\n",
       "</table>\n",
       "<p>407 rows × 8 columns</p>\n",
       "</div>"
      ],
      "text/plain": [
       "                         Num_inversion                                        \\\n",
       "                                 count  mean       std  min   25%  50%   75%   \n",
       "Park                                                                           \n",
       "20th Century Fox World             3.0  0.00  0.000000  0.0  0.00  0.0  0.00   \n",
       "Adlabs Imagica                     2.0  3.50  2.121320  2.0  2.75  3.5  4.25   \n",
       "Adventure City (Anaheim)           1.0  0.00       NaN  0.0  0.00  0.0  0.00   \n",
       "Adventure Island                   4.0  0.75  1.500000  0.0  0.00  0.0  0.75   \n",
       "Adventure Park Geelong             1.0  0.00       NaN  0.0  0.00  0.0  0.00   \n",
       "...                                ...   ...       ...  ...   ...  ...   ...   \n",
       "Zoo Safari Stukenbrock             2.0  1.00  1.414214  0.0  0.50  1.0  1.50   \n",
       "Zoo de Granby                      1.0  0.00       NaN  0.0  0.00  0.0  0.00   \n",
       "Zoomarine                          1.0  1.00       NaN  1.0  1.00  1.0  1.00   \n",
       "Zoosafari Fasanolandia             2.0  0.00  0.000000  0.0  0.00  0.0  0.00   \n",
       "Zygo park                          2.0  1.50  2.121320  0.0  0.75  1.5  2.25   \n",
       "\n",
       "                               \n",
       "                          max  \n",
       "Park                           \n",
       "20th Century Fox World    0.0  \n",
       "Adlabs Imagica            5.0  \n",
       "Adventure City (Anaheim)  0.0  \n",
       "Adventure Island          3.0  \n",
       "Adventure Park Geelong    0.0  \n",
       "...                       ...  \n",
       "Zoo Safari Stukenbrock    2.0  \n",
       "Zoo de Granby             0.0  \n",
       "Zoomarine                 1.0  \n",
       "Zoosafari Fasanolandia    0.0  \n",
       "Zygo park                 3.0  \n",
       "\n",
       "[407 rows x 8 columns]"
      ]
     },
     "execution_count": 45,
     "metadata": {},
     "output_type": "execute_result"
    }
   ],
   "source": [
    "dataset_rct_pk.sort_values(by=['Park']).groupby(\"Park\").describe()"
   ]
  },
  {
   "cell_type": "markdown",
   "id": "6037ae7f",
   "metadata": {},
   "source": [
    "Since number of inversions equal to 0 does mean no inversion, it has been made the assumption to drop out these values from the further analyses."
   ]
  },
  {
   "cell_type": "code",
   "execution_count": 46,
   "id": "5be758bf",
   "metadata": {},
   "outputs": [],
   "source": [
    "#Drop out values with number of inversion = 0\n",
    "dataset_rct_pk = dataset_rct_pk[dataset_rct_pk.Num_inversion > 0]\n",
    "#print(dataset_rct_pk.head(10))"
   ]
  },
  {
   "cell_type": "code",
   "execution_count": 47,
   "id": "0aabe7ca",
   "metadata": {},
   "outputs": [
    {
     "data": {
      "text/html": [
       "<div>\n",
       "<style scoped>\n",
       "    .dataframe tbody tr th:only-of-type {\n",
       "        vertical-align: middle;\n",
       "    }\n",
       "\n",
       "    .dataframe tbody tr th {\n",
       "        vertical-align: top;\n",
       "    }\n",
       "\n",
       "    .dataframe thead tr th {\n",
       "        text-align: left;\n",
       "    }\n",
       "\n",
       "    .dataframe thead tr:last-of-type th {\n",
       "        text-align: right;\n",
       "    }\n",
       "</style>\n",
       "<table border=\"1\" class=\"dataframe\">\n",
       "  <thead>\n",
       "    <tr>\n",
       "      <th></th>\n",
       "      <th colspan=\"8\" halign=\"left\">Num_inversion</th>\n",
       "    </tr>\n",
       "    <tr>\n",
       "      <th></th>\n",
       "      <th>count</th>\n",
       "      <th>mean</th>\n",
       "      <th>std</th>\n",
       "      <th>min</th>\n",
       "      <th>25%</th>\n",
       "      <th>50%</th>\n",
       "      <th>75%</th>\n",
       "      <th>max</th>\n",
       "    </tr>\n",
       "    <tr>\n",
       "      <th>Park</th>\n",
       "      <th></th>\n",
       "      <th></th>\n",
       "      <th></th>\n",
       "      <th></th>\n",
       "      <th></th>\n",
       "      <th></th>\n",
       "      <th></th>\n",
       "      <th></th>\n",
       "    </tr>\n",
       "  </thead>\n",
       "  <tbody>\n",
       "    <tr>\n",
       "      <th>Adlabs Imagica</th>\n",
       "      <td>2.0</td>\n",
       "      <td>3.5</td>\n",
       "      <td>2.12132</td>\n",
       "      <td>2.0</td>\n",
       "      <td>2.75</td>\n",
       "      <td>3.5</td>\n",
       "      <td>4.25</td>\n",
       "      <td>5.0</td>\n",
       "    </tr>\n",
       "    <tr>\n",
       "      <th>Adventure Island</th>\n",
       "      <td>1.0</td>\n",
       "      <td>3.0</td>\n",
       "      <td>NaN</td>\n",
       "      <td>3.0</td>\n",
       "      <td>3.00</td>\n",
       "      <td>3.0</td>\n",
       "      <td>3.00</td>\n",
       "      <td>3.0</td>\n",
       "    </tr>\n",
       "    <tr>\n",
       "      <th>Adventure World</th>\n",
       "      <td>1.0</td>\n",
       "      <td>3.0</td>\n",
       "      <td>NaN</td>\n",
       "      <td>3.0</td>\n",
       "      <td>3.00</td>\n",
       "      <td>3.0</td>\n",
       "      <td>3.00</td>\n",
       "      <td>3.0</td>\n",
       "    </tr>\n",
       "    <tr>\n",
       "      <th>Adventuredome</th>\n",
       "      <td>1.0</td>\n",
       "      <td>4.0</td>\n",
       "      <td>NaN</td>\n",
       "      <td>4.0</td>\n",
       "      <td>4.00</td>\n",
       "      <td>4.0</td>\n",
       "      <td>4.00</td>\n",
       "      <td>4.0</td>\n",
       "    </tr>\n",
       "    <tr>\n",
       "      <th>Adventureland</th>\n",
       "      <td>1.0</td>\n",
       "      <td>5.0</td>\n",
       "      <td>NaN</td>\n",
       "      <td>5.0</td>\n",
       "      <td>5.00</td>\n",
       "      <td>5.0</td>\n",
       "      <td>5.00</td>\n",
       "      <td>5.0</td>\n",
       "    </tr>\n",
       "    <tr>\n",
       "      <th>...</th>\n",
       "      <td>...</td>\n",
       "      <td>...</td>\n",
       "      <td>...</td>\n",
       "      <td>...</td>\n",
       "      <td>...</td>\n",
       "      <td>...</td>\n",
       "      <td>...</td>\n",
       "      <td>...</td>\n",
       "    </tr>\n",
       "    <tr>\n",
       "      <th>Xetulul</th>\n",
       "      <td>1.0</td>\n",
       "      <td>8.0</td>\n",
       "      <td>NaN</td>\n",
       "      <td>8.0</td>\n",
       "      <td>8.00</td>\n",
       "      <td>8.0</td>\n",
       "      <td>8.00</td>\n",
       "      <td>8.0</td>\n",
       "    </tr>\n",
       "    <tr>\n",
       "      <th>Xishuangbanna Theme Park</th>\n",
       "      <td>1.0</td>\n",
       "      <td>2.0</td>\n",
       "      <td>NaN</td>\n",
       "      <td>2.0</td>\n",
       "      <td>2.00</td>\n",
       "      <td>2.0</td>\n",
       "      <td>2.00</td>\n",
       "      <td>2.0</td>\n",
       "    </tr>\n",
       "    <tr>\n",
       "      <th>Zoo Safari Stukenbrock</th>\n",
       "      <td>1.0</td>\n",
       "      <td>2.0</td>\n",
       "      <td>NaN</td>\n",
       "      <td>2.0</td>\n",
       "      <td>2.00</td>\n",
       "      <td>2.0</td>\n",
       "      <td>2.00</td>\n",
       "      <td>2.0</td>\n",
       "    </tr>\n",
       "    <tr>\n",
       "      <th>Zoomarine</th>\n",
       "      <td>1.0</td>\n",
       "      <td>1.0</td>\n",
       "      <td>NaN</td>\n",
       "      <td>1.0</td>\n",
       "      <td>1.00</td>\n",
       "      <td>1.0</td>\n",
       "      <td>1.00</td>\n",
       "      <td>1.0</td>\n",
       "    </tr>\n",
       "    <tr>\n",
       "      <th>Zygo park</th>\n",
       "      <td>1.0</td>\n",
       "      <td>3.0</td>\n",
       "      <td>NaN</td>\n",
       "      <td>3.0</td>\n",
       "      <td>3.00</td>\n",
       "      <td>3.0</td>\n",
       "      <td>3.00</td>\n",
       "      <td>3.0</td>\n",
       "    </tr>\n",
       "  </tbody>\n",
       "</table>\n",
       "<p>244 rows × 8 columns</p>\n",
       "</div>"
      ],
      "text/plain": [
       "                         Num_inversion                                      \\\n",
       "                                 count mean      std  min   25%  50%   75%   \n",
       "Park                                                                         \n",
       "Adlabs Imagica                     2.0  3.5  2.12132  2.0  2.75  3.5  4.25   \n",
       "Adventure Island                   1.0  3.0      NaN  3.0  3.00  3.0  3.00   \n",
       "Adventure World                    1.0  3.0      NaN  3.0  3.00  3.0  3.00   \n",
       "Adventuredome                      1.0  4.0      NaN  4.0  4.00  4.0  4.00   \n",
       "Adventureland                      1.0  5.0      NaN  5.0  5.00  5.0  5.00   \n",
       "...                                ...  ...      ...  ...   ...  ...   ...   \n",
       "Xetulul                            1.0  8.0      NaN  8.0  8.00  8.0  8.00   \n",
       "Xishuangbanna Theme Park           1.0  2.0      NaN  2.0  2.00  2.0  2.00   \n",
       "Zoo Safari Stukenbrock             1.0  2.0      NaN  2.0  2.00  2.0  2.00   \n",
       "Zoomarine                          1.0  1.0      NaN  1.0  1.00  1.0  1.00   \n",
       "Zygo park                          1.0  3.0      NaN  3.0  3.00  3.0  3.00   \n",
       "\n",
       "                               \n",
       "                          max  \n",
       "Park                           \n",
       "Adlabs Imagica            5.0  \n",
       "Adventure Island          3.0  \n",
       "Adventure World           3.0  \n",
       "Adventuredome             4.0  \n",
       "Adventureland             5.0  \n",
       "...                       ...  \n",
       "Xetulul                   8.0  \n",
       "Xishuangbanna Theme Park  2.0  \n",
       "Zoo Safari Stukenbrock    2.0  \n",
       "Zoomarine                 1.0  \n",
       "Zygo park                 3.0  \n",
       "\n",
       "[244 rows x 8 columns]"
      ]
     },
     "execution_count": 47,
     "metadata": {},
     "output_type": "execute_result"
    }
   ],
   "source": [
    "dataset_rct_pk.sort_values(by=['Park']).groupby(\"Park\").describe()"
   ]
  },
  {
   "cell_type": "markdown",
   "id": "b01b9459",
   "metadata": {},
   "source": [
    "Follow two examples, with selection respectively of the Kings Island park and Six Flags Great America parks."
   ]
  },
  {
   "cell_type": "code",
   "execution_count": 48,
   "id": "e85a6809",
   "metadata": {},
   "outputs": [
    {
     "name": "stdout",
     "output_type": "stream",
     "text": [
      "                Name          Park Material  Num_inversion\n",
      "342        Invertigo  Kings Island    Steel            3.0\n",
      "344   Flight of Fear  Kings Island    Steel            4.0\n",
      "345       King Cobra  Kings Island    Steel            1.0\n",
      "349           Vortex  Kings Island    Steel            6.0\n",
      "1725         Banshee  Kings Island    Steel            7.0\n"
     ]
    },
    {
     "data": {
      "text/html": [
       "<div>\n",
       "<style scoped>\n",
       "    .dataframe tbody tr th:only-of-type {\n",
       "        vertical-align: middle;\n",
       "    }\n",
       "\n",
       "    .dataframe tbody tr th {\n",
       "        vertical-align: top;\n",
       "    }\n",
       "\n",
       "    .dataframe thead th {\n",
       "        text-align: right;\n",
       "    }\n",
       "</style>\n",
       "<table border=\"1\" class=\"dataframe\">\n",
       "  <thead>\n",
       "    <tr style=\"text-align: right;\">\n",
       "      <th></th>\n",
       "      <th>Num_inversion</th>\n",
       "    </tr>\n",
       "  </thead>\n",
       "  <tbody>\n",
       "    <tr>\n",
       "      <th>count</th>\n",
       "      <td>5.000000</td>\n",
       "    </tr>\n",
       "    <tr>\n",
       "      <th>mean</th>\n",
       "      <td>4.200000</td>\n",
       "    </tr>\n",
       "    <tr>\n",
       "      <th>std</th>\n",
       "      <td>2.387467</td>\n",
       "    </tr>\n",
       "    <tr>\n",
       "      <th>min</th>\n",
       "      <td>1.000000</td>\n",
       "    </tr>\n",
       "    <tr>\n",
       "      <th>25%</th>\n",
       "      <td>3.000000</td>\n",
       "    </tr>\n",
       "    <tr>\n",
       "      <th>50%</th>\n",
       "      <td>4.000000</td>\n",
       "    </tr>\n",
       "    <tr>\n",
       "      <th>75%</th>\n",
       "      <td>6.000000</td>\n",
       "    </tr>\n",
       "    <tr>\n",
       "      <th>max</th>\n",
       "      <td>7.000000</td>\n",
       "    </tr>\n",
       "  </tbody>\n",
       "</table>\n",
       "</div>"
      ],
      "text/plain": [
       "       Num_inversion\n",
       "count       5.000000\n",
       "mean        4.200000\n",
       "std         2.387467\n",
       "min         1.000000\n",
       "25%         3.000000\n",
       "50%         4.000000\n",
       "75%         6.000000\n",
       "max         7.000000"
      ]
     },
     "execution_count": 48,
     "metadata": {},
     "output_type": "execute_result"
    }
   ],
   "source": [
    "#Kings Island park \n",
    "ELTk = dataset_rct_pk[dataset_rct_pk.Park == 'Kings Island']\n",
    "print(ELTk.head())\n",
    "ELTk.describe()"
   ]
  },
  {
   "cell_type": "markdown",
   "id": "46ad2dbd",
   "metadata": {},
   "source": [
    "The output shows that in the park under consideration (Kings Island park ) 5 steel rollers coasters are present. Therefore, theirs number of invervion have been plotted. "
   ]
  },
  {
   "cell_type": "code",
   "execution_count": 49,
   "id": "a40fc8ad",
   "metadata": {},
   "outputs": [
    {
     "data": {
      "image/png": "[encoded data removed]",
      "text/plain": [
       "<Figure size 720x576 with 1 Axes>"
      ]
     },
     "metadata": {
      "needs_background": "light"
     },
     "output_type": "display_data"
    },
    {
     "data": {
      "text/plain": [
       "<Figure size 432x288 with 0 Axes>"
      ]
     },
     "metadata": {},
     "output_type": "display_data"
    }
   ],
   "source": [
    "Names = ['Invertigo', 'Flight of Fear', 'King Cobra', 'Vortex', 'Banshee']\n",
    "NI = [3.0, 4.0, 1.0, 6.0, 7.0]\n",
    "\n",
    "plt.figure(figsize=(10,8))\n",
    "plt.bar(range(5), NI)\n",
    "\n",
    "ax = plt.subplot()\n",
    "ax.set_xticks(range(5))\n",
    "ax.set_xticklabels(Names, rotation =45)\n",
    "plt.xlabel('Names steel roller coasters')\n",
    "plt.ylabel('Number inversion')\n",
    "plt.title('Number of inversion of the steel roller coasters in Kings Island park')\n",
    "plt.savefig('Fig11.png')\n",
    "plt.show()\n",
    "plt.clf()"
   ]
  },
  {
   "cell_type": "markdown",
   "id": "bb806708",
   "metadata": {},
   "source": [
    "The output show that two of the steel roller coaster ('Vortex', 'Banshee') in the king Insland park have the highest values of number of inversion(7 and 6, repsectively). "
   ]
  },
  {
   "cell_type": "code",
   "execution_count": 50,
   "id": "935386b3",
   "metadata": {},
   "outputs": [
    {
     "name": "stdout",
     "output_type": "stream",
     "text": [
      "                           Name                     Park Material  \\\n",
      "175                   Iron Wolf  Six Flags Great America    Steel   \n",
      "176                       Demon  Six Flags Great America    Steel   \n",
      "444             Batman The Ride  Six Flags Great America    Steel   \n",
      "445                     Déjà Vu  Six Flags Great America    Steel   \n",
      "449  Superman - Ultimate Flight  Six Flags Great America    Steel   \n",
      "\n",
      "     Num_inversion  \n",
      "175            2.0  \n",
      "176            4.0  \n",
      "444            5.0  \n",
      "445            3.0  \n",
      "449            2.0  \n"
     ]
    },
    {
     "data": {
      "text/html": [
       "<div>\n",
       "<style scoped>\n",
       "    .dataframe tbody tr th:only-of-type {\n",
       "        vertical-align: middle;\n",
       "    }\n",
       "\n",
       "    .dataframe tbody tr th {\n",
       "        vertical-align: top;\n",
       "    }\n",
       "\n",
       "    .dataframe thead th {\n",
       "        text-align: right;\n",
       "    }\n",
       "</style>\n",
       "<table border=\"1\" class=\"dataframe\">\n",
       "  <thead>\n",
       "    <tr style=\"text-align: right;\">\n",
       "      <th></th>\n",
       "      <th>Num_inversion</th>\n",
       "    </tr>\n",
       "  </thead>\n",
       "  <tbody>\n",
       "    <tr>\n",
       "      <th>count</th>\n",
       "      <td>7.000000</td>\n",
       "    </tr>\n",
       "    <tr>\n",
       "      <th>mean</th>\n",
       "      <td>3.285714</td>\n",
       "    </tr>\n",
       "    <tr>\n",
       "      <th>std</th>\n",
       "      <td>1.380131</td>\n",
       "    </tr>\n",
       "    <tr>\n",
       "      <th>min</th>\n",
       "      <td>2.000000</td>\n",
       "    </tr>\n",
       "    <tr>\n",
       "      <th>25%</th>\n",
       "      <td>2.000000</td>\n",
       "    </tr>\n",
       "    <tr>\n",
       "      <th>50%</th>\n",
       "      <td>3.000000</td>\n",
       "    </tr>\n",
       "    <tr>\n",
       "      <th>75%</th>\n",
       "      <td>4.500000</td>\n",
       "    </tr>\n",
       "    <tr>\n",
       "      <th>max</th>\n",
       "      <td>5.000000</td>\n",
       "    </tr>\n",
       "  </tbody>\n",
       "</table>\n",
       "</div>"
      ],
      "text/plain": [
       "       Num_inversion\n",
       "count       7.000000\n",
       "mean        3.285714\n",
       "std         1.380131\n",
       "min         2.000000\n",
       "25%         2.000000\n",
       "50%         3.000000\n",
       "75%         4.500000\n",
       "max         5.000000"
      ]
     },
     "execution_count": 50,
     "metadata": {},
     "output_type": "execute_result"
    }
   ],
   "source": [
    "#Six Flags Great America park\n",
    "ELTkk = dataset_rct_pk[dataset_rct_pk.Park == 'Six Flags Great America']\n",
    "print(ELTkk.head())\n",
    "ELTkk.describe()"
   ]
  },
  {
   "cell_type": "markdown",
   "id": "062bdb1c",
   "metadata": {},
   "source": [
    "The output shows that in the park under consideration (Six Flags Great America park ) 6 steel rollers coasters are present. Therefore, theirs number of invervion have been plotted. "
   ]
  },
  {
   "cell_type": "code",
   "execution_count": 51,
   "id": "7660df4c",
   "metadata": {},
   "outputs": [
    {
     "data": {
      "image/png": "[encoded data removed]",
      "text/plain": [
       "<Figure size 720x576 with 1 Axes>"
      ]
     },
     "metadata": {
      "needs_background": "light"
     },
     "output_type": "display_data"
    },
    {
     "data": {
      "text/plain": [
       "<Figure size 432x288 with 0 Axes>"
      ]
     },
     "metadata": {},
     "output_type": "display_data"
    }
   ],
   "source": [
    "Names = ['Iron Wolf', 'Demon', 'Batman The Ride', 'Déjà Vu', 'Superman - Ultimate Flight']\n",
    "NI = [2.0, 4.0, 5.0, 3.0, 2.0]\n",
    "\n",
    "plt.figure(figsize=(10,8))\n",
    "plt.bar(range(5), NI)\n",
    "\n",
    "ax = plt.subplot()\n",
    "ax.set_xticks(range(5))\n",
    "ax.set_xticklabels(Names, rotation =45)\n",
    "plt.xlabel('Names steel roller coasters')\n",
    "plt.ylabel('Number inversion')\n",
    "plt.title('Number of inversion of the steel roller coasters in Six Flags Great America park')\n",
    "plt.savefig('Fig12.png')\n",
    "plt.show()\n",
    "plt.clf()"
   ]
  },
  {
   "cell_type": "markdown",
   "id": "57f7e727",
   "metadata": {},
   "source": [
    "The output show that two of the steel roller coasters ('Demon', 'Batman The Ride') in the Six Flags Great America park have the highest values of number of inversion (5 and 4, respectively). "
   ]
  },
  {
   "cell_type": "markdown",
   "id": "abba3c25",
   "metadata": {},
   "source": [
    "Plot function that creates a pie chart that compares the number of operating roller coasters ('status.operating') to the number of closed roller coasters ('status.closed.definitely'). this  function does take the roller coaster DataFrame as an argument. "
   ]
  },
  {
   "cell_type": "code",
   "execution_count": 52,
   "id": "f6d08411",
   "metadata": {},
   "outputs": [
    {
     "name": "stdout",
     "output_type": "stream",
     "text": [
      "['status.announced' 'status.closed.definitely' 'status.closed.temporarily'\n",
      " 'status.construction' 'status.operating' 'status.relocated'\n",
      " 'status.retracked' 'status.unknown']\n",
      "8\n"
     ]
    }
   ],
   "source": [
    "#status variable \n",
    "print(dataset_rct.sort_values(by=['Status']).Status.unique())\n",
    "print(dataset_rct.sort_values(by=['Status']).Status.nunique())"
   ]
  },
  {
   "cell_type": "markdown",
   "id": "c037ecba",
   "metadata": {},
   "source": [
    "The output does show the presence of 8 types of operating systems. Since the further analysis will take into consideration only two types (status operating and status closed definitely), the other types of status will be dropped out from the further analysis. "
   ]
  },
  {
   "cell_type": "code",
   "execution_count": 53,
   "id": "3096ef9d",
   "metadata": {},
   "outputs": [
    {
     "name": "stdout",
     "output_type": "stream",
     "text": [
      "            Name            Park Material            Status\n",
      "0       Goudurix    Parc Asterix    Steel  status.operating\n",
      "1  Dream catcher   Bobbejaanland    Steel  status.operating\n",
      "2     Alucinakis    Terra Mítica    Steel  status.operating\n",
      "3       Anaconda  Walygator Parc   Wooden  status.operating\n",
      "4         Azteka          Le Pal    Steel  status.operating\n",
      "<class 'pandas.core.frame.DataFrame'>\n",
      "Int64Index: 1279 entries, 0 to 2799\n",
      "Data columns (total 4 columns):\n",
      " #   Column    Non-Null Count  Dtype \n",
      "---  ------    --------------  ----- \n",
      " 0   Name      1279 non-null   object\n",
      " 1   Park      1279 non-null   object\n",
      " 2   Material  1279 non-null   object\n",
      " 3   Status    1279 non-null   object\n",
      "dtypes: object(4)\n",
      "memory usage: 50.0+ KB\n",
      "5116\n",
      "(1279, 4)\n"
     ]
    }
   ],
   "source": [
    "#Selection of the variables of interest for the further analysis \n",
    "dataset_rct_st = dataset_rct[['Name', 'Park', 'Material', 'Status']]\n",
    "print(dataset_rct_st.head())\n",
    "dataset_rct_st.info()     #concise summary of the dataframe like the index dtype and columns, non-null values and memory usage \n",
    "dataset_rct_st.describe() #Simple statistics of the numnerical variables\n",
    "size = dataset_rct_st.size # dataframe.size\n",
    "print(size)\n",
    "shape =dataset_rct_st.shape  # dataframe.shape\n",
    "print(shape)"
   ]
  },
  {
   "cell_type": "code",
   "execution_count": 54,
   "id": "4d69c58d",
   "metadata": {},
   "outputs": [
    {
     "name": "stdout",
     "output_type": "stream",
     "text": [
      "            Name            Park Material            Status\n",
      "0       Goudurix    Parc Asterix    Steel  status.operating\n",
      "1  Dream catcher   Bobbejaanland    Steel  status.operating\n",
      "2     Alucinakis    Terra Mítica    Steel  status.operating\n",
      "3       Anaconda  Walygator Parc   Wooden  status.operating\n",
      "4         Azteka          Le Pal    Steel  status.operating\n"
     ]
    },
    {
     "data": {
      "text/html": [
       "<div>\n",
       "<style scoped>\n",
       "    .dataframe tbody tr th:only-of-type {\n",
       "        vertical-align: middle;\n",
       "    }\n",
       "\n",
       "    .dataframe tbody tr th {\n",
       "        vertical-align: top;\n",
       "    }\n",
       "\n",
       "    .dataframe thead th {\n",
       "        text-align: right;\n",
       "    }\n",
       "</style>\n",
       "<table border=\"1\" class=\"dataframe\">\n",
       "  <thead>\n",
       "    <tr style=\"text-align: right;\">\n",
       "      <th></th>\n",
       "      <th>Name</th>\n",
       "      <th>Park</th>\n",
       "      <th>Material</th>\n",
       "      <th>Status</th>\n",
       "    </tr>\n",
       "  </thead>\n",
       "  <tbody>\n",
       "    <tr>\n",
       "      <th>count</th>\n",
       "      <td>1034</td>\n",
       "      <td>1034</td>\n",
       "      <td>1034</td>\n",
       "      <td>1034</td>\n",
       "    </tr>\n",
       "    <tr>\n",
       "      <th>unique</th>\n",
       "      <td>889</td>\n",
       "      <td>362</td>\n",
       "      <td>4</td>\n",
       "      <td>1</td>\n",
       "    </tr>\n",
       "    <tr>\n",
       "      <th>top</th>\n",
       "      <td>Boomerang</td>\n",
       "      <td>Foire</td>\n",
       "      <td>Steel</td>\n",
       "      <td>status.operating</td>\n",
       "    </tr>\n",
       "    <tr>\n",
       "      <th>freq</th>\n",
       "      <td>18</td>\n",
       "      <td>18</td>\n",
       "      <td>846</td>\n",
       "      <td>1034</td>\n",
       "    </tr>\n",
       "  </tbody>\n",
       "</table>\n",
       "</div>"
      ],
      "text/plain": [
       "             Name   Park Material            Status\n",
       "count        1034   1034     1034              1034\n",
       "unique        889    362        4                 1\n",
       "top     Boomerang  Foire    Steel  status.operating\n",
       "freq           18     18      846              1034"
      ]
     },
     "execution_count": 54,
     "metadata": {},
     "output_type": "execute_result"
    }
   ],
   "source": [
    "#status operating\n",
    "dataset_rct_sto = dataset_rct_st[dataset_rct_st.Status == 'status.operating']\n",
    "print(dataset_rct_sto.head())\n",
    "dataset_rct_sto.describe()"
   ]
  },
  {
   "cell_type": "code",
   "execution_count": 55,
   "id": "f50a09c2",
   "metadata": {},
   "outputs": [
    {
     "name": "stdout",
     "output_type": "stream",
     "text": [
      "                             Name                Park Material  \\\n",
      "24              Cop Car Chase (1)  Movie Park Germany    Steel   \n",
      "61  Les Montagnes du Grand Canyon           OK Corral    Steel   \n",
      "63                 Family Coaster     Parc Saint Paul    Steel   \n",
      "72               Family Adventure        Mirabilandia    Steel   \n",
      "80                 Sierra Tonante        Mirabilandia   Wooden   \n",
      "\n",
      "                      Status  \n",
      "24  status.closed.definitely  \n",
      "61  status.closed.definitely  \n",
      "63  status.closed.definitely  \n",
      "72  status.closed.definitely  \n",
      "80  status.closed.definitely  \n"
     ]
    },
    {
     "data": {
      "text/html": [
       "<div>\n",
       "<style scoped>\n",
       "    .dataframe tbody tr th:only-of-type {\n",
       "        vertical-align: middle;\n",
       "    }\n",
       "\n",
       "    .dataframe tbody tr th {\n",
       "        vertical-align: top;\n",
       "    }\n",
       "\n",
       "    .dataframe thead th {\n",
       "        text-align: right;\n",
       "    }\n",
       "</style>\n",
       "<table border=\"1\" class=\"dataframe\">\n",
       "  <thead>\n",
       "    <tr style=\"text-align: right;\">\n",
       "      <th></th>\n",
       "      <th>Name</th>\n",
       "      <th>Park</th>\n",
       "      <th>Material</th>\n",
       "      <th>Status</th>\n",
       "    </tr>\n",
       "  </thead>\n",
       "  <tbody>\n",
       "    <tr>\n",
       "      <th>count</th>\n",
       "      <td>169</td>\n",
       "      <td>169</td>\n",
       "      <td>169</td>\n",
       "      <td>169</td>\n",
       "    </tr>\n",
       "    <tr>\n",
       "      <th>unique</th>\n",
       "      <td>152</td>\n",
       "      <td>97</td>\n",
       "      <td>3</td>\n",
       "      <td>1</td>\n",
       "    </tr>\n",
       "    <tr>\n",
       "      <th>top</th>\n",
       "      <td>Looping Star</td>\n",
       "      <td>Geauga Lake</td>\n",
       "      <td>Steel</td>\n",
       "      <td>status.closed.definitely</td>\n",
       "    </tr>\n",
       "    <tr>\n",
       "      <th>freq</th>\n",
       "      <td>6</td>\n",
       "      <td>9</td>\n",
       "      <td>155</td>\n",
       "      <td>169</td>\n",
       "    </tr>\n",
       "  </tbody>\n",
       "</table>\n",
       "</div>"
      ],
      "text/plain": [
       "                Name         Park Material                    Status\n",
       "count            169          169      169                       169\n",
       "unique           152           97        3                         1\n",
       "top     Looping Star  Geauga Lake    Steel  status.closed.definitely\n",
       "freq               6            9      155                       169"
      ]
     },
     "execution_count": 55,
     "metadata": {},
     "output_type": "execute_result"
    }
   ],
   "source": [
    "#status non operating\n",
    "dataset_rct_ston = dataset_rct_st[dataset_rct_st.Status == 'status.closed.definitely']\n",
    "print(dataset_rct_ston.head())\n",
    "dataset_rct_ston.describe()"
   ]
  },
  {
   "cell_type": "code",
   "execution_count": 56,
   "id": "6a6e2c24",
   "metadata": {},
   "outputs": [
    {
     "data": {
      "image/png": "[encoded data removed]",
      "text/plain": [
       "<Figure size 720x576 with 1 Axes>"
      ]
     },
     "metadata": {},
     "output_type": "display_data"
    },
    {
     "data": {
      "text/plain": [
       "<Figure size 432x288 with 0 Axes>"
      ]
     },
     "metadata": {},
     "output_type": "display_data"
    }
   ],
   "source": [
    "status_names = [\"status.operating\", 'status.closed.definitely' ]\n",
    "stastus_frequ = [18, 6]\n",
    "plt.figure(figsize=(10,8))\n",
    "\n",
    "plt.pie(stastus_frequ, labels=status_names, autopct = '%0.1f%%') # autopct to enclose the percentange to each slice \n",
    "plt.axis('equal')\n",
    "plt.title(\"Pie chart of the status of two operating roller coasters\")\n",
    "plt.savefig('Fig13.png')\n",
    "plt.show()\n",
    "plt.clf()"
   ]
  },
  {
   "cell_type": "markdown",
   "id": "c17af751",
   "metadata": {},
   "source": [
    "The plot does show that the percentage of roller coasters with stuatus operationg is higher than those carachterised by a status closed definetely."
   ]
  },
  {
   "cell_type": "markdown",
   "id": "b1ee84a4",
   "metadata": {},
   "source": [
    "In order to investigate the relationship between speed and height (numerical variables), a scatter plot of these two numeric columns of the roller coaster DataFrame has been created. The function does take into consideration the roller coaster DataFrame and two-column names as arguments."
   ]
  },
  {
   "cell_type": "code",
   "execution_count": 57,
   "id": "7a65563d",
   "metadata": {},
   "outputs": [
    {
     "name": "stdout",
     "output_type": "stream",
     "text": [
      "   Speed  Height  Length  Num_inversion\n",
      "0   75.0    37.0   950.0            7.0\n",
      "1   45.0    25.0   600.0            0.0\n",
      "2   30.0     8.0   250.0            0.0\n",
      "3   85.0    35.0  1200.0            0.0\n",
      "4   55.0    17.0   500.0            0.0\n"
     ]
    }
   ],
   "source": [
    "dataset_rct_p = dataset_rct[['Speed', 'Height', 'Length', 'Num_inversion']]\n",
    "print(dataset_rct_p.head())"
   ]
  },
  {
   "cell_type": "markdown",
   "id": "8f835402",
   "metadata": {},
   "source": [
    "To be verified whether there is the presence of missing values of null values in the two numeric variables taken into consideration. "
   ]
  },
  {
   "cell_type": "code",
   "execution_count": 58,
   "id": "0203a46e",
   "metadata": {},
   "outputs": [
    {
     "name": "stderr",
     "output_type": "stream",
     "text": [
      "C:\\Users\\Michela\\anaconda3\\lib\\site-packages\\seaborn\\_decorators.py:36: FutureWarning: Pass the following variables as keyword args: x, y. From version 0.12, the only valid positional argument will be `data`, and passing other arguments without an explicit keyword will result in an error or misinterpretation.\n",
      "  warnings.warn(\n"
     ]
    },
    {
     "data": {
      "image/png": "[encoded data removed]",
      "text/plain": [
       "<Figure size 720x576 with 1 Axes>"
      ]
     },
     "metadata": {
      "needs_background": "light"
     },
     "output_type": "display_data"
    },
    {
     "data": {
      "text/plain": [
       "<Figure size 432x288 with 0 Axes>"
      ]
     },
     "metadata": {},
     "output_type": "display_data"
    }
   ],
   "source": [
    "# Create a function to plot scatter of speed vs height\n",
    "plt.figure(figsize=(10,8))\n",
    "sns.scatterplot(dataset_rct_p.Speed, dataset_rct_p.Height)\n",
    "plt.title(\"Relationship between speed and height of the roller coasters\")\n",
    "plt.show()\n",
    "plt.savefig('Fig14.png')\n",
    "plt.clf()\n"
   ]
  },
  {
   "cell_type": "code",
   "execution_count": 59,
   "id": "57aa307b",
   "metadata": {},
   "outputs": [
    {
     "name": "stderr",
     "output_type": "stream",
     "text": [
      "C:\\Users\\Michela\\anaconda3\\lib\\site-packages\\seaborn\\_decorators.py:36: FutureWarning: Pass the following variables as keyword args: x, y. From version 0.12, the only valid positional argument will be `data`, and passing other arguments without an explicit keyword will result in an error or misinterpretation.\n",
      "  warnings.warn(\n"
     ]
    },
    {
     "data": {
      "image/png": "[encoded data removed]",
      "text/plain": [
       "<Figure size 720x576 with 1 Axes>"
      ]
     },
     "metadata": {
      "needs_background": "light"
     },
     "output_type": "display_data"
    },
    {
     "data": {
      "text/plain": [
       "<Figure size 432x288 with 0 Axes>"
      ]
     },
     "metadata": {},
     "output_type": "display_data"
    }
   ],
   "source": [
    "# Create a scatter plot of roller coaster height by speed\n",
    "plt.figure(figsize=(10,8))\n",
    "sns.scatterplot(dataset_rct_p.Height, dataset_rct_p.Speed)\n",
    "plt.title(\"Relationship between height and speed of the roller coasters\")\n",
    "plt.show()\n",
    "plt.savefig('Fig15.png')\n",
    "plt.clf()\n"
   ]
  },
  {
   "cell_type": "markdown",
   "id": "0adbdae7",
   "metadata": {},
   "source": [
    "These above plots do show a possible linear correletion between speed and height of the roller coasters. "
   ]
  },
  {
   "cell_type": "markdown",
   "id": "10a180ba",
   "metadata": {},
   "source": [
    "What roller coaster seating type is most popular?"
   ]
  },
  {
   "cell_type": "code",
   "execution_count": 60,
   "id": "d717ee13",
   "metadata": {},
   "outputs": [
    {
     "name": "stdout",
     "output_type": "stream",
     "text": [
      "['4th Dimension' 'Alpine' 'Bobsleigh' 'Floorless' 'Flying' 'Inverted'\n",
      " 'Motorbike' 'Pipeline' 'Sit Down' 'Spinning' 'Stand Up' 'Suspended'\n",
      " 'Water Coaster' 'Wing']\n",
      "14\n"
     ]
    }
   ],
   "source": [
    "#seating_type variable \n",
    "print(dataset_rct.sort_values(by=['Type_seating']).Type_seating.unique())\n",
    "print(dataset_rct.sort_values(by=['Type_seating']).Type_seating.nunique())"
   ]
  },
  {
   "cell_type": "markdown",
   "id": "37061430",
   "metadata": {},
   "source": [
    "The output show the presence of 14 types of roller coaster seating types. "
   ]
  },
  {
   "cell_type": "code",
   "execution_count": 61,
   "id": "c33042f3",
   "metadata": {},
   "outputs": [
    {
     "data": {
      "text/plain": [
       "Sit Down         0.754496\n",
       "Inverted         0.081314\n",
       "Spinning         0.042220\n",
       "Suspended        0.020328\n",
       "Flying           0.017983\n",
       "Floorless        0.017201\n",
       "Water Coaster    0.012510\n",
       "Stand Up         0.012510\n",
       "4th Dimension    0.012510\n",
       "Wing             0.009382\n",
       "Motorbike        0.008600\n",
       "Bobsleigh        0.007037\n",
       "Pipeline         0.002346\n",
       "Alpine           0.001564\n",
       "Name: Type_seating, dtype: float64"
      ]
     },
     "execution_count": 61,
     "metadata": {},
     "output_type": "execute_result"
    }
   ],
   "source": [
    "dataset_rct['Type_seating'].value_counts(normalize=True)"
   ]
  },
  {
   "cell_type": "markdown",
   "id": "ebe7557f",
   "metadata": {},
   "source": [
    "The output does show the Sit Down seem to bee the most popular roller coaster setting (75%). "
   ]
  },
  {
   "cell_type": "code",
   "execution_count": null,
   "id": "78a70b15",
   "metadata": {},
   "outputs": [],
   "source": []
  },
  {
   "cell_type": "markdown",
   "id": "38c25195",
   "metadata": {},
   "source": [
    "# References"
   ]
  },
  {
   "cell_type": "code",
   "execution_count": null,
   "id": "f2dc71ed",
   "metadata": {},
   "outputs": [],
   "source": [
    "1) https://en.wikipedia.org/wiki/Roller_coaster"
   ]
  },
  {
   "cell_type": "code",
   "execution_count": null,
   "id": "c0dcda86",
   "metadata": {},
   "outputs": [],
   "source": [
    "2) https://goldenticketawards.com/"
   ]
  }
 ],
 "metadata": {
  "kernelspec": {
   "display_name": "Python 3 (ipykernel)",
   "language": "python",
   "name": "python3"
  },
  "language_info": {
   "codemirror_mode": {
    "name": "ipython",
    "version": 3
   },
   "file_extension": ".py",
   "mimetype": "text/x-python",
   "name": "python",
   "nbconvert_exporter": "python",
   "pygments_lexer": "ipython3",
   "version": "3.9.12"
  }
 },
 "nbformat": 4,
 "nbformat_minor": 5
}
